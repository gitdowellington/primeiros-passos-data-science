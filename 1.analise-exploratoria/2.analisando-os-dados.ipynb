{
 "cells": [
  {
   "cell_type": "markdown",
   "metadata": {},
   "source": [
    "# **2.0- Analisando os dados**\n",
    "\n",
    "- 2.1- Um pouco sobre o Método query( ). \n",
    "- 2.2- Utilizando o método query( ) para filtrar dados em uma coluna.\n",
    "- 2.3- Utilizando o método query( ) para filtrar dados em duas ou mais colunas.\n",
    "- 2.4- Utilizando o método query( ) com o operador **@**.\n",
    "- 2.5- Exibindo todas as linhas de um DataFrame no console.\n",
    "- 2.6- Um pouco sobre o Método groupby( ).\n"
   ]
  },
  {
   "cell_type": "markdown",
   "metadata": {},
   "source": [
    "**2.1- Método Query( )**\n",
    "\n",
    "- O método **query( )** do Pandas permite filtrar dados de um DataFrame utilizando uma expressão de consulta semelhante a linguagem SQL. Ele permite que você selecione linhas com base em condições específicas definidas ne expressão da consulta, facilitando a filtragem dos dados. Isso é bastante útil ao lidar com grandes conjuntos de dados e condições de filtragem simples e complexas.\n",
    "\n",
    "- Ele aceita um texto (string) contendo a expressão de consulta e retorna um DataFrame contendo apenas as linhas que atendem às condições especificadas. A expressão de consulta pode incluir operadores lógicos como **and**, **or** e **not**, bem como operadores de comparação como **==**, **<**, **>**, **<=** e **>=**."
   ]
  },
  {
   "cell_type": "markdown",
   "metadata": {},
   "source": [
    "**2.2- Query para filtrar dados em uma coluna**\n",
    "\n",
    "- Vamos utilizar aqui, em nosssos exemplos, a base de dados da \"serenatto_2sem_2023.csv\".\n",
    "\n",
    "- Primeiro, vamos trazer o método query( ) aplicando a filtragem de apenas uma coluna:"
   ]
  },
  {
   "cell_type": "code",
   "execution_count": 3,
   "metadata": {},
   "outputs": [
    {
     "data": {
      "text/html": [
       "<div>\n",
       "<style scoped>\n",
       "    .dataframe tbody tr th:only-of-type {\n",
       "        vertical-align: middle;\n",
       "    }\n",
       "\n",
       "    .dataframe tbody tr th {\n",
       "        vertical-align: top;\n",
       "    }\n",
       "\n",
       "    .dataframe thead th {\n",
       "        text-align: right;\n",
       "    }\n",
       "</style>\n",
       "<table border=\"1\" class=\"dataframe\">\n",
       "  <thead>\n",
       "    <tr style=\"text-align: right;\">\n",
       "      <th></th>\n",
       "      <th>id</th>\n",
       "      <th>data</th>\n",
       "      <th>produto</th>\n",
       "      <th>valor</th>\n",
       "      <th>metodo_pagamento</th>\n",
       "    </tr>\n",
       "  </thead>\n",
       "  <tbody>\n",
       "    <tr>\n",
       "      <th>1</th>\n",
       "      <td>2721</td>\n",
       "      <td>2023-07-02</td>\n",
       "      <td>Tiramisù</td>\n",
       "      <td>10.0</td>\n",
       "      <td>Cartão de Débito</td>\n",
       "    </tr>\n",
       "    <tr>\n",
       "      <th>2</th>\n",
       "      <td>2722</td>\n",
       "      <td>2023-07-02</td>\n",
       "      <td>Tiramisù</td>\n",
       "      <td>10.0</td>\n",
       "      <td>Cartão de Crédito</td>\n",
       "    </tr>\n",
       "    <tr>\n",
       "      <th>15</th>\n",
       "      <td>2735</td>\n",
       "      <td>2023-07-06</td>\n",
       "      <td>Tiramisù</td>\n",
       "      <td>10.0</td>\n",
       "      <td>Cartão de Crédito</td>\n",
       "    </tr>\n",
       "    <tr>\n",
       "      <th>30</th>\n",
       "      <td>2750</td>\n",
       "      <td>2023-07-07</td>\n",
       "      <td>Tiramisù</td>\n",
       "      <td>10.0</td>\n",
       "      <td>Cartão de Débito</td>\n",
       "    </tr>\n",
       "    <tr>\n",
       "      <th>31</th>\n",
       "      <td>2751</td>\n",
       "      <td>2023-07-07</td>\n",
       "      <td>Tiramisù</td>\n",
       "      <td>10.0</td>\n",
       "      <td>Cartão de Débito</td>\n",
       "    </tr>\n",
       "  </tbody>\n",
       "</table>\n",
       "</div>"
      ],
      "text/plain": [
       "      id        data   produto  valor   metodo_pagamento\n",
       "1   2721  2023-07-02  Tiramisù   10.0   Cartão de Débito\n",
       "2   2722  2023-07-02  Tiramisù   10.0  Cartão de Crédito\n",
       "15  2735  2023-07-06  Tiramisù   10.0  Cartão de Crédito\n",
       "30  2750  2023-07-07  Tiramisù   10.0   Cartão de Débito\n",
       "31  2751  2023-07-07  Tiramisù   10.0   Cartão de Débito"
      ]
     },
     "execution_count": 3,
     "metadata": {},
     "output_type": "execute_result"
    }
   ],
   "source": [
    "import pandas as pd\n",
    "baseSerenatto = pd.read_csv(\"https://raw.githubusercontent.com/gitdowellington/primeiros-passos-data-science/refs/heads/main/1.analise-exploratoria/base-dados/serenatto_2sem_2023.csv\")\n",
    "baseSerenatto.query(\"produto == 'Tiramisù'\").head()"
   ]
  },
  {
   "cell_type": "markdown",
   "metadata": {},
   "source": [
    "- Neste exemplo, estamos filtrando o DataFrame para selecionar apenas as linhas em que o produto seja \"Tiramisù\". Pra efeito de visualização colocamos o head( ) para aparecer apenas os 05 primeiros registros."
   ]
  },
  {
   "cell_type": "markdown",
   "metadata": {},
   "source": [
    "**2.3- Query para filtrar dados de duas ou mais colunas**\n",
    "\n",
    "- Este método também pode ser utilizado para filtrar dados em duas ou mais colunas, combinando as condições com operadores lógicos."
   ]
  },
  {
   "cell_type": "code",
   "execution_count": 4,
   "metadata": {},
   "outputs": [
    {
     "data": {
      "text/html": [
       "<div>\n",
       "<style scoped>\n",
       "    .dataframe tbody tr th:only-of-type {\n",
       "        vertical-align: middle;\n",
       "    }\n",
       "\n",
       "    .dataframe tbody tr th {\n",
       "        vertical-align: top;\n",
       "    }\n",
       "\n",
       "    .dataframe thead th {\n",
       "        text-align: right;\n",
       "    }\n",
       "</style>\n",
       "<table border=\"1\" class=\"dataframe\">\n",
       "  <thead>\n",
       "    <tr style=\"text-align: right;\">\n",
       "      <th></th>\n",
       "      <th>id</th>\n",
       "      <th>data</th>\n",
       "      <th>produto</th>\n",
       "      <th>valor</th>\n",
       "      <th>metodo_pagamento</th>\n",
       "    </tr>\n",
       "  </thead>\n",
       "  <tbody>\n",
       "    <tr>\n",
       "      <th>0</th>\n",
       "      <td>2720</td>\n",
       "      <td>2023-07-01</td>\n",
       "      <td>Risoto de Funghi</td>\n",
       "      <td>13.0</td>\n",
       "      <td>Cartão de Débito</td>\n",
       "    </tr>\n",
       "    <tr>\n",
       "      <th>5</th>\n",
       "      <td>2725</td>\n",
       "      <td>2023-07-03</td>\n",
       "      <td>Salada Niçoise</td>\n",
       "      <td>11.0</td>\n",
       "      <td>PIX</td>\n",
       "    </tr>\n",
       "    <tr>\n",
       "      <th>7</th>\n",
       "      <td>2727</td>\n",
       "      <td>2023-07-04</td>\n",
       "      <td>Lasanha</td>\n",
       "      <td>11.5</td>\n",
       "      <td>PIX</td>\n",
       "    </tr>\n",
       "    <tr>\n",
       "      <th>8</th>\n",
       "      <td>2728</td>\n",
       "      <td>2023-07-04</td>\n",
       "      <td>Gnocchi</td>\n",
       "      <td>10.5</td>\n",
       "      <td>PIX</td>\n",
       "    </tr>\n",
       "    <tr>\n",
       "      <th>18</th>\n",
       "      <td>2738</td>\n",
       "      <td>2023-07-06</td>\n",
       "      <td>Salada Niçoise</td>\n",
       "      <td>11.0</td>\n",
       "      <td>Cartão de Débito</td>\n",
       "    </tr>\n",
       "  </tbody>\n",
       "</table>\n",
       "</div>"
      ],
      "text/plain": [
       "      id        data           produto  valor  metodo_pagamento\n",
       "0   2720  2023-07-01  Risoto de Funghi   13.0  Cartão de Débito\n",
       "5   2725  2023-07-03    Salada Niçoise   11.0               PIX\n",
       "7   2727  2023-07-04           Lasanha   11.5               PIX\n",
       "8   2728  2023-07-04           Gnocchi   10.5               PIX\n",
       "18  2738  2023-07-06    Salada Niçoise   11.0  Cartão de Débito"
      ]
     },
     "execution_count": 4,
     "metadata": {},
     "output_type": "execute_result"
    }
   ],
   "source": [
    "baseSerenatto.query(\"valor > 10 and metodo_pagamento != 'Dinheiro'\").head()"
   ]
  },
  {
   "cell_type": "markdown",
   "metadata": {},
   "source": [
    "- Neste outro exemplo, estamos filtrando o DataFrame para selecionar apenas as linhas em que o valor do produto é maior que 10 e o método de pagamento é qualquer um, exceto \"Dinheiro\"."
   ]
  },
  {
   "cell_type": "markdown",
   "metadata": {},
   "source": [
    "**2.4- Query com o operador @**\n",
    "\n",
    "- Além disso, o método query( ) permite referenciar variáveis externas dentro da expressão de consulta usando o operador @. Sendo bastante útil para criar consultas com base em variáveis definidas previamente."
   ]
  },
  {
   "cell_type": "code",
   "execution_count": 5,
   "metadata": {},
   "outputs": [
    {
     "data": {
      "text/html": [
       "<div>\n",
       "<style scoped>\n",
       "    .dataframe tbody tr th:only-of-type {\n",
       "        vertical-align: middle;\n",
       "    }\n",
       "\n",
       "    .dataframe tbody tr th {\n",
       "        vertical-align: top;\n",
       "    }\n",
       "\n",
       "    .dataframe thead th {\n",
       "        text-align: right;\n",
       "    }\n",
       "</style>\n",
       "<table border=\"1\" class=\"dataframe\">\n",
       "  <thead>\n",
       "    <tr style=\"text-align: right;\">\n",
       "      <th></th>\n",
       "      <th>id</th>\n",
       "      <th>data</th>\n",
       "      <th>produto</th>\n",
       "      <th>valor</th>\n",
       "      <th>metodo_pagamento</th>\n",
       "    </tr>\n",
       "  </thead>\n",
       "  <tbody>\n",
       "    <tr>\n",
       "      <th>9</th>\n",
       "      <td>2729</td>\n",
       "      <td>2023-07-04</td>\n",
       "      <td>Espresso</td>\n",
       "      <td>2.5</td>\n",
       "      <td>PIX</td>\n",
       "    </tr>\n",
       "    <tr>\n",
       "      <th>42</th>\n",
       "      <td>2762</td>\n",
       "      <td>2023-07-10</td>\n",
       "      <td>Café au lait</td>\n",
       "      <td>4.0</td>\n",
       "      <td>PIX</td>\n",
       "    </tr>\n",
       "    <tr>\n",
       "      <th>64</th>\n",
       "      <td>2784</td>\n",
       "      <td>2023-07-14</td>\n",
       "      <td>Espresso</td>\n",
       "      <td>2.5</td>\n",
       "      <td>PIX</td>\n",
       "    </tr>\n",
       "    <tr>\n",
       "      <th>76</th>\n",
       "      <td>2796</td>\n",
       "      <td>2023-07-16</td>\n",
       "      <td>Café au lait</td>\n",
       "      <td>4.0</td>\n",
       "      <td>PIX</td>\n",
       "    </tr>\n",
       "    <tr>\n",
       "      <th>77</th>\n",
       "      <td>2797</td>\n",
       "      <td>2023-07-16</td>\n",
       "      <td>Café au lait</td>\n",
       "      <td>4.0</td>\n",
       "      <td>PIX</td>\n",
       "    </tr>\n",
       "  </tbody>\n",
       "</table>\n",
       "</div>"
      ],
      "text/plain": [
       "      id        data       produto  valor metodo_pagamento\n",
       "9   2729  2023-07-04      Espresso    2.5              PIX\n",
       "42  2762  2023-07-10  Café au lait    4.0              PIX\n",
       "64  2784  2023-07-14      Espresso    2.5              PIX\n",
       "76  2796  2023-07-16  Café au lait    4.0              PIX\n",
       "77  2797  2023-07-16  Café au lait    4.0              PIX"
      ]
     },
     "execution_count": 5,
     "metadata": {},
     "output_type": "execute_result"
    }
   ],
   "source": [
    "produtos = ['Café au lait', 'Espresso', 'Cappuccino']\n",
    "\n",
    "baseSerenatto.query(\"produto in @produtos and metodo_pagamento == 'PIX'\").head()"
   ]
  },
  {
   "cell_type": "markdown",
   "metadata": {},
   "source": [
    "- Neste exemplo, estamos filtrando o DataFrame para selecionar apenas as linhas em que tenham os produtos passados pela lista **produtos** e que o método de pagamento seja em PIX."
   ]
  },
  {
   "cell_type": "markdown",
   "metadata": {},
   "source": [
    "**2.5- Exibindo todas as linhas de um DataFrame no console**\n",
    "\n",
    "- Quando trabalhamos com DataFrames em Python, especialmente em ambientes como o VS Code, é comum que, por padrão, apenas um número limitado de linhas seja exibido no console para evitar grandes saídas e tornar a visualização mais gerenciável. No entanto, há situações em que precisamos ver todas as linhas de um DataFrame para uma análise mais completa.\n",
    "\n",
    "**Solução:**\n",
    "\n",
    "- Para exibir todas as linhas de um DataFrame no console do VS Code, podemos utilizar a função set_option da biblioteca Pandas, que permite configurar diversas opções de exibição, conforme o código abaixo:"
   ]
  },
  {
   "cell_type": "code",
   "execution_count": 6,
   "metadata": {},
   "outputs": [],
   "source": [
    "pd.set_option('display.max_rows', None)"
   ]
  },
  {
   "cell_type": "markdown",
   "metadata": {},
   "source": [
    "**Resetando as configurações previamente definidas:**"
   ]
  },
  {
   "cell_type": "code",
   "execution_count": 7,
   "metadata": {},
   "outputs": [],
   "source": [
    "pd.reset_option('display')"
   ]
  },
  {
   "cell_type": "markdown",
   "metadata": {},
   "source": [
    "**2.6- Método groupby( )**\n",
    "\n",
    "- O método groupby( ) é uma das ferramentas mais poderosas do Pandas, fundamental para análise de dados. Ele permite que você agrupe seus dados com base em uma ou mais colunas e em seguida, aplique funções de agregação a esses grupos.\n",
    "\n",
    "- No exemplo abaixo vamos analisar o nome de cada produto com seus respectivos valores que são vendidos no estabelecimento:\n"
   ]
  },
  {
   "cell_type": "code",
   "execution_count": 8,
   "metadata": {},
   "outputs": [
    {
     "data": {
      "text/html": [
       "<div>\n",
       "<style scoped>\n",
       "    .dataframe tbody tr th:only-of-type {\n",
       "        vertical-align: middle;\n",
       "    }\n",
       "\n",
       "    .dataframe tbody tr th {\n",
       "        vertical-align: top;\n",
       "    }\n",
       "\n",
       "    .dataframe thead th {\n",
       "        text-align: right;\n",
       "    }\n",
       "</style>\n",
       "<table border=\"1\" class=\"dataframe\">\n",
       "  <thead>\n",
       "    <tr style=\"text-align: right;\">\n",
       "      <th></th>\n",
       "      <th>valor</th>\n",
       "    </tr>\n",
       "    <tr>\n",
       "      <th>produto</th>\n",
       "      <th></th>\n",
       "    </tr>\n",
       "  </thead>\n",
       "  <tbody>\n",
       "    <tr>\n",
       "      <th>Baguete</th>\n",
       "      <td>[3.0]</td>\n",
       "    </tr>\n",
       "    <tr>\n",
       "      <th>Bruschetta</th>\n",
       "      <td>[7.0]</td>\n",
       "    </tr>\n",
       "    <tr>\n",
       "      <th>Café au lait</th>\n",
       "      <td>[4.0]</td>\n",
       "    </tr>\n",
       "    <tr>\n",
       "      <th>Canapé de Salmão</th>\n",
       "      <td>[9.5]</td>\n",
       "    </tr>\n",
       "    <tr>\n",
       "      <th>Cappuccino</th>\n",
       "      <td>[5.5]</td>\n",
       "    </tr>\n",
       "    <tr>\n",
       "      <th>Croissant</th>\n",
       "      <td>[5.0]</td>\n",
       "    </tr>\n",
       "    <tr>\n",
       "      <th>Espresso</th>\n",
       "      <td>[2.5]</td>\n",
       "    </tr>\n",
       "    <tr>\n",
       "      <th>Gelato</th>\n",
       "      <td>[6.0]</td>\n",
       "    </tr>\n",
       "    <tr>\n",
       "      <th>Gnocchi</th>\n",
       "      <td>[10.5]</td>\n",
       "    </tr>\n",
       "    <tr>\n",
       "      <th>Lasanha</th>\n",
       "      <td>[11.5]</td>\n",
       "    </tr>\n",
       "    <tr>\n",
       "      <th>Limoncello</th>\n",
       "      <td>[9.0]</td>\n",
       "    </tr>\n",
       "    <tr>\n",
       "      <th>Macaron</th>\n",
       "      <td>[3.5]</td>\n",
       "    </tr>\n",
       "    <tr>\n",
       "      <th>Panini</th>\n",
       "      <td>[7.5]</td>\n",
       "    </tr>\n",
       "    <tr>\n",
       "      <th>Pizza Margherita</th>\n",
       "      <td>[12.0]</td>\n",
       "    </tr>\n",
       "    <tr>\n",
       "      <th>Quiche Lorraine</th>\n",
       "      <td>[8.0]</td>\n",
       "    </tr>\n",
       "    <tr>\n",
       "      <th>Ratatouille</th>\n",
       "      <td>[8.5]</td>\n",
       "    </tr>\n",
       "    <tr>\n",
       "      <th>Risoto de Funghi</th>\n",
       "      <td>[13.0]</td>\n",
       "    </tr>\n",
       "    <tr>\n",
       "      <th>Salada Niçoise</th>\n",
       "      <td>[11.0]</td>\n",
       "    </tr>\n",
       "    <tr>\n",
       "      <th>Tiramisù</th>\n",
       "      <td>[10.0]</td>\n",
       "    </tr>\n",
       "    <tr>\n",
       "      <th>Éclair</th>\n",
       "      <td>[4.5]</td>\n",
       "    </tr>\n",
       "  </tbody>\n",
       "</table>\n",
       "</div>"
      ],
      "text/plain": [
       "                   valor\n",
       "produto                 \n",
       "Baguete            [3.0]\n",
       "Bruschetta         [7.0]\n",
       "Café au lait       [4.0]\n",
       "Canapé de Salmão   [9.5]\n",
       "Cappuccino         [5.5]\n",
       "Croissant          [5.0]\n",
       "Espresso           [2.5]\n",
       "Gelato             [6.0]\n",
       "Gnocchi           [10.5]\n",
       "Lasanha           [11.5]\n",
       "Limoncello         [9.0]\n",
       "Macaron            [3.5]\n",
       "Panini             [7.5]\n",
       "Pizza Margherita  [12.0]\n",
       "Quiche Lorraine    [8.0]\n",
       "Ratatouille        [8.5]\n",
       "Risoto de Funghi  [13.0]\n",
       "Salada Niçoise    [11.0]\n",
       "Tiramisù          [10.0]\n",
       "Éclair             [4.5]"
      ]
     },
     "execution_count": 8,
     "metadata": {},
     "output_type": "execute_result"
    }
   ],
   "source": [
    "precos_produtos = baseSerenatto.groupby(\"produto\")[\"valor\"].unique()\n",
    "\n",
    "precos_produtos = pd.DataFrame(precos_produtos)\n",
    "precos_produtos"
   ]
  },
  {
   "cell_type": "markdown",
   "metadata": {},
   "source": [
    "- No exemplo abaixo vamos analisar o valor total arrecadado nas vendas de cada produto:"
   ]
  },
  {
   "cell_type": "code",
   "execution_count": 9,
   "metadata": {},
   "outputs": [
    {
     "data": {
      "text/plain": [
       "produto\n",
       "Baguete             123.0\n",
       "Bruschetta          259.0\n",
       "Café au lait        212.0\n",
       "Canapé de Salmão    456.0\n",
       "Cappuccino          209.0\n",
       "Croissant           150.0\n",
       "Espresso            110.0\n",
       "Gelato              240.0\n",
       "Gnocchi             525.0\n",
       "Lasanha             471.5\n",
       "Limoncello          414.0\n",
       "Macaron             164.5\n",
       "Panini              322.5\n",
       "Pizza Margherita    468.0\n",
       "Quiche Lorraine     328.0\n",
       "Ratatouille         323.0\n",
       "Risoto de Funghi    598.0\n",
       "Salada Niçoise      495.0\n",
       "Tiramisù            460.0\n",
       "Éclair              193.5\n",
       "Name: valor, dtype: float64"
      ]
     },
     "execution_count": 9,
     "metadata": {},
     "output_type": "execute_result"
    }
   ],
   "source": [
    "baseSerenatto.groupby(\"produto\")['valor'].sum()"
   ]
  },
  {
   "cell_type": "markdown",
   "metadata": {},
   "source": [
    "- No exemplo abaixo vamos verificar a quantidade de vendas que cada produto teve:"
   ]
  },
  {
   "cell_type": "code",
   "execution_count": 10,
   "metadata": {},
   "outputs": [
    {
     "data": {
      "text/plain": [
       "produto\n",
       "Baguete             41\n",
       "Bruschetta          37\n",
       "Café au lait        53\n",
       "Canapé de Salmão    48\n",
       "Cappuccino          38\n",
       "Croissant           30\n",
       "Espresso            44\n",
       "Gelato              40\n",
       "Gnocchi             50\n",
       "Lasanha             41\n",
       "Limoncello          46\n",
       "Macaron             47\n",
       "Panini              43\n",
       "Pizza Margherita    39\n",
       "Quiche Lorraine     41\n",
       "Ratatouille         38\n",
       "Risoto de Funghi    46\n",
       "Salada Niçoise      45\n",
       "Tiramisù            46\n",
       "Éclair              43\n",
       "Name: count, dtype: int64"
      ]
     },
     "execution_count": 10,
     "metadata": {},
     "output_type": "execute_result"
    }
   ],
   "source": [
    "baseSerenatto.groupby(\"produto\")['produto'].value_counts()"
   ]
  }
 ],
 "metadata": {
  "kernelspec": {
   "display_name": "Python 3",
   "language": "python",
   "name": "python3"
  },
  "language_info": {
   "codemirror_mode": {
    "name": "ipython",
    "version": 3
   },
   "file_extension": ".py",
   "mimetype": "text/x-python",
   "name": "python",
   "nbconvert_exporter": "python",
   "pygments_lexer": "ipython3",
   "version": "3.13.0"
  }
 },
 "nbformat": 4,
 "nbformat_minor": 2
}
