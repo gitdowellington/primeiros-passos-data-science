{
 "cells": [
  {
   "cell_type": "markdown",
   "metadata": {},
   "source": [
    "# **3.0- Conhecendo os tipos de variaveis**\n",
    "\n",
    "# Classificação das Variáveis\n",
    "\n",
    "> Variáveis são características, atributos ou quantidades de uma amostra ou população que podem ser mensuradas, contadas ou categorizadas. Elas são fundamentais para descrever e entender os fenômenos em estudo. As variáveis podem ser classificadas basicamente em dois tipos: **qualitativas** (ou categóricas) e **quantitativas** (ou numéricas).\n",
    "    \n",
    "*Na imagem abaixo, podemos observar os diferentes tipos de variáveis, seja por sua natureza, quanto pelas suas derivações:*\n",
    "\n",
    "<img src=\"https://raw.githubusercontent.com/gitdowellington/primeiros-passos-data-science/refs/heads/main/1.analise-exploratoria/imagens/Aula03-img01.webp\" width=\"600\" height=\"240\">\n",
    "\n",
    "### **Variáveis Qualitativas**\n",
    "\n",
    "- Também conhecidas como categóricas, representam características que não podem ser medidas numericamente, mas podem ser categorizadas, ou seja, representam uma classificação. Estas variáveis podem ser **nominais** ou **ordinais.**\n",
    "\n",
    "    - **Observação:**\n",
    "\n",
    "      - A depender dos tipos dos dados, é possível que uma variável qualitativa possa ser representada por números. Por exemplo, uma coluna que representa uma característica em que 0 simboliza “Não” e 1 simboliza “Sim”. Os números aqui servem para resumir a representação dos dados e não devem ser utilizados para cálculo, por exemplo, de média.\n",
    "\n",
    "- **Nominal**\n",
    "\n",
    "  - Uma variável qualitativa nominal é aquela que classifica os elementos em classes ou categorias em relação ao tipo do dado representado. Ela não possui uma relação de grandeza ou ordem dos dados\n",
    "\n",
    "      - *Exemplos:* \n",
    "\n",
    "        - Nome de produtos, departamentos, métodos de pagamento ou variáveis geográficas, como, cidade, estado e região.\n",
    "\n",
    "- **Ordinal**\n",
    "\n",
    "  - Uma variável qualitativa ordinal também é aquela que classifica os elementos em classes ou categorias, porém existe uma ordem natural ou hierárquica entre as categorias.\n",
    "\n",
    "      - *Exemplos:*\n",
    "\n",
    "        - Grau de escolaridade (ensino infantil, ensino fundamental, ensino médio), nível de satisfação do cliente (insatisfeito, neutro e satisfeito) e nível socioeconômico.\n",
    "\n",
    "### <strong>Variáveis Quantitativas</strong>\n",
    "\n",
    "- Representam medidas numéricas ou quantidades observáveis que podem ser expressas em números. Elas são resultantes de contagens (conjunto finito de valores) ou mensurações (conjunto infinito de valores). Estas variáveis podem ser discretas ou contínuas.\n",
    "\n",
    "- **Discreta**\n",
    "\n",
    "  - Uma variável quantitativa discreta é aquela que apresenta valores que podem ser contados e geralmente inteiros. \n",
    "\n",
    "      - *Exemplos:* \n",
    "      \n",
    "          - Quantidade de produto vendido, número de cômodos em uma casa e idade.\n",
    "\n",
    "- **Contínua**\n",
    "\n",
    "  - Uma variável quantitativa contínua é aquela que apresenta valores que podem assumir qualquer valor dentro de um intervalo específico e geralmente são expressos como números reais.\n",
    "\n",
    "      - *Exemplos:* \n",
    "      \n",
    "          - Peso de um produto, altura de uma pessoa, tempo e temperatura de um experimento.\n",
    "\n",
    "> Compreender as variáveis e onde elas se posicionam dentro dessas classificações facilita bastante na escolha das técnicas, visuais e análises para cada tipo de dado. Por isso, quando estiver mexendo com conjuntos de dados em seus projetos, analise o que cada coluna pode representar e como poderá te auxiliar na investigação por meio da ciência de dados.\n",
    "\n",
    "\n",
    "\n"
   ]
  }
 ],
 "metadata": {
  "kernelspec": {
   "display_name": "Python 3",
   "language": "python",
   "name": "python3"
  },
  "language_info": {
   "codemirror_mode": {
    "name": "ipython",
    "version": 3
   },
   "file_extension": ".py",
   "mimetype": "text/x-python",
   "name": "python",
   "nbconvert_exporter": "python",
   "pygments_lexer": "ipython3",
   "version": "3.13.0"
  }
 },
 "nbformat": 4,
 "nbformat_minor": 2
}
