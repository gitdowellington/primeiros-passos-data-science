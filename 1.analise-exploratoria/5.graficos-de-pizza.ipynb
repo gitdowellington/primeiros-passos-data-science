{
 "cells": [
  {
   "cell_type": "markdown",
   "metadata": {},
   "source": [
    "# **5.0- Quando usar um gráfico de pizza?**\n",
    "\n",
    "<img src = \"https://raw.githubusercontent.com/gitdowellington/primeiros-passos-data-science/refs/heads/main/1.analise-exploratoria/imagens/pizza.png\" width= 700, height = 300>\n",
    "\n",
    "O gráfico de pizza, apesar de popular, é uma ferramenta de visualização de dados que gera muitas discussões entre especialistas. Alguns renomados estudiosos, como Edward Tufte, questionam sua eficácia. No entanto, devido à sua simplicidade e facilidade de criação, ele continua sendo amplamente utilizado.\n",
    "\n",
    "É importante ressaltar que o gráfico de pizza não é adequado para todos os tipos de dados. \n",
    "\n",
    "### **Eles funcionam melhor quando:**\n",
    "\n",
    "- **As categorias são poucas:** \n",
    "    - Idealmente, entre 2 e 3 fatias.\n",
    "- **Os dados são binários ou dicotômicos:** \n",
    "    - Por exemplo, sim/não, homem/mulher.\n",
    "- **O objetivo é mostrar a proporção de um todo:** \n",
    "    - Qual a porcentagem de cada categoria em relação ao total?\n",
    "\n",
    "### **Para usar o gráfico de pizza de forma eficaz, evite:**\n",
    "\n",
    "- **3D e explosão de fatias:**\n",
    "    - Essas características dificultam a comparação entre as fatias.\n",
    "- **Muitas fatias:**\n",
    "    - Um grande número de fatias torna o gráfico confuso e difícil de interpretar.\n",
    "- **Legendas distantes:**\n",
    "    - A legenda deve estar próxima ao gráfico para facilitar a compreensão.\n",
    "\n",
    "Em resumo, o gráfico de pizza pode ser uma ferramenta útil quando usado de forma adequada. Ao seguir as orientações acima, você poderá criar visualizações mais claras e eficazes.\n",
    "\n",
    "Em muitos casos, outros tipos de gráficos, como barras ou colunas, podem ser mais adequados para apresentar os dados. A escolha do gráfico ideal dependerá do tipo de dado, da mensagem que se deseja transmitir e do público-alvo.\n",
    "\n",
    "- **Pontos-chave:**\n",
    "\n",
    "    - Simplicidade é fundamental.\n",
    "    - Poucas categorias facilitam a compreensão.\n",
    "    - Evite efeitos visuais que distraiam.\n",
    "    - A legenda deve estar próxima ao gráfico.\n",
    "    - Considere outros tipos de gráficos quando necessário.\n",
    "\n",
    "Ao utilizar gráficos de pizza, lembre-se sempre de que a visualização de dados deve facilitar a compreensão das informações e não dificultá-la."
   ]
  }
 ],
 "metadata": {
  "language_info": {
   "name": "python"
  }
 },
 "nbformat": 4,
 "nbformat_minor": 2
}
