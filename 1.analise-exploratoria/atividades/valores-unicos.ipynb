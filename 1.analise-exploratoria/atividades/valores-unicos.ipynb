{
 "cells": [
  {
   "cell_type": "markdown",
   "metadata": {},
   "source": [
    "# Valores únicos\n",
    "\n",
    ">Uma rede nacional de escolas de línguas precisa identificar, dentro da sua base de docentes, quantas línguas diferentes são lecionadas em suas unidades. A empresa contratou a analista de dados Cláudia para fazer esse trabalho e passou para ela a base nacional completa com todos os docentes e as línguas que eles lecionam em formato .csv. Logo abaixo, podemos observar as primeiras linhas da baseDocentes:"
   ]
  },
  {
   "cell_type": "code",
   "execution_count": 1,
   "metadata": {},
   "outputs": [
    {
     "data": {
      "text/html": [
       "<div>\n",
       "<style scoped>\n",
       "    .dataframe tbody tr th:only-of-type {\n",
       "        vertical-align: middle;\n",
       "    }\n",
       "\n",
       "    .dataframe tbody tr th {\n",
       "        vertical-align: top;\n",
       "    }\n",
       "\n",
       "    .dataframe thead th {\n",
       "        text-align: right;\n",
       "    }\n",
       "</style>\n",
       "<table border=\"1\" class=\"dataframe\">\n",
       "  <thead>\n",
       "    <tr style=\"text-align: right;\">\n",
       "      <th></th>\n",
       "      <th>ID</th>\n",
       "      <th>nome_docente</th>\n",
       "      <th>lingua_leciona</th>\n",
       "      <th>anos_leciona</th>\n",
       "      <th>Sede</th>\n",
       "    </tr>\n",
       "  </thead>\n",
       "  <tbody>\n",
       "    <tr>\n",
       "      <th>0</th>\n",
       "      <td>1</td>\n",
       "      <td>Guilherme</td>\n",
       "      <td>Português</td>\n",
       "      <td>15</td>\n",
       "      <td>São Paulo</td>\n",
       "    </tr>\n",
       "    <tr>\n",
       "      <th>1</th>\n",
       "      <td>1</td>\n",
       "      <td>Guilherme</td>\n",
       "      <td>Japonês</td>\n",
       "      <td>10</td>\n",
       "      <td>São Paulo</td>\n",
       "    </tr>\n",
       "    <tr>\n",
       "      <th>2</th>\n",
       "      <td>1</td>\n",
       "      <td>Guilherme</td>\n",
       "      <td>Coreano</td>\n",
       "      <td>5</td>\n",
       "      <td>São Paulo</td>\n",
       "    </tr>\n",
       "    <tr>\n",
       "      <th>3</th>\n",
       "      <td>2</td>\n",
       "      <td>Valquíria</td>\n",
       "      <td>Português</td>\n",
       "      <td>8</td>\n",
       "      <td>São Caetano</td>\n",
       "    </tr>\n",
       "    <tr>\n",
       "      <th>4</th>\n",
       "      <td>2</td>\n",
       "      <td>Valquíria</td>\n",
       "      <td>Inglês</td>\n",
       "      <td>8</td>\n",
       "      <td>São Caetano</td>\n",
       "    </tr>\n",
       "    <tr>\n",
       "      <th>5</th>\n",
       "      <td>2</td>\n",
       "      <td>Valquíria</td>\n",
       "      <td>Alemão</td>\n",
       "      <td>2</td>\n",
       "      <td>São Caetano</td>\n",
       "    </tr>\n",
       "  </tbody>\n",
       "</table>\n",
       "</div>"
      ],
      "text/plain": [
       "   ID nome_docente lingua_leciona  anos_leciona         Sede\n",
       "0   1    Guilherme      Português            15    São Paulo\n",
       "1   1    Guilherme        Japonês            10    São Paulo\n",
       "2   1    Guilherme        Coreano             5    São Paulo\n",
       "3   2    Valquíria      Português             8  São Caetano\n",
       "4   2    Valquíria         Inglês             8  São Caetano\n",
       "5   2    Valquíria         Alemão             2  São Caetano"
      ]
     },
     "execution_count": 1,
     "metadata": {},
     "output_type": "execute_result"
    }
   ],
   "source": [
    "import pandas as pd\n",
    "\n",
    "baseDocentes = {'ID': [1, 1, 1, 2, 2, 2],\n",
    "                'nome_docente': ['Guilherme', 'Guilherme', 'Guilherme', 'Valquíria', 'Valquíria', 'Valquíria'],\n",
    "                'lingua_leciona': ['Português', 'Japonês', 'Coreano', 'Português', 'Inglês', 'Alemão'],\n",
    "                'anos_leciona': [15, 10, 5, 8, 8, 2],\n",
    "                'Sede': ['São Paulo', 'São Paulo', 'São Paulo', 'São Caetano', 'São Caetano', 'São Caetano']}\n",
    "\n",
    "baseDocentes = pd.DataFrame(baseDocentes)\n",
    "baseDocentes"
   ]
  },
  {
   "cell_type": "markdown",
   "metadata": {},
   "source": [
    "- Com o primeiro tratamento, Cláudia quer saber todas as línguas lecionadas nas escolas apenas na sede da cidade de São Paulo. Desse modo, qual código Cláudia deve utilizar para verificar os valores únicos das línguas para a condição desejada?"
   ]
  },
  {
   "cell_type": "code",
   "execution_count": 8,
   "metadata": {},
   "outputs": [
    {
     "name": "stdout",
     "output_type": "stream",
     "text": [
      "As línguas que são lecionadas na sede de são paulo são:\n",
      "\n",
      "['Português' 'Japonês' 'Coreano'] \n"
     ]
    }
   ],
   "source": [
    "linguas_lecionadas_saopaulo = baseDocentes.query(\"Sede == 'São Paulo'\")['lingua_leciona'].unique()\n",
    "\n",
    "print(f'As línguas que são lecionadas na sede de são paulo são:\\n\\n{linguas_lecionadas_saopaulo} ')"
   ]
  }
 ],
 "metadata": {
  "kernelspec": {
   "display_name": "Python 3",
   "language": "python",
   "name": "python3"
  },
  "language_info": {
   "codemirror_mode": {
    "name": "ipython",
    "version": 3
   },
   "file_extension": ".py",
   "mimetype": "text/x-python",
   "name": "python",
   "nbconvert_exporter": "python",
   "pygments_lexer": "ipython3",
   "version": "3.13.0"
  }
 },
 "nbformat": 4,
 "nbformat_minor": 2
}
