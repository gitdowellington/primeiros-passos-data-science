{
 "cells": [
  {
   "cell_type": "code",
   "execution_count": 113,
   "metadata": {},
   "outputs": [],
   "source": [
    "import pandas as pd\n",
    "\n",
    "dadosVendas = pd.read_csv(\"https://raw.githubusercontent.com/gitdowellington/primeiros-passos-data-science/refs/heads/main/1.analise-exploratoria/base-atividades/serenatto_2sem_2023.csv\")"
   ]
  },
  {
   "cell_type": "markdown",
   "metadata": {},
   "source": [
    "# Atividade: Consultando um DataFrame\n",
    "\n",
    ">Maria é uma cientista de dados na Serenatto - Café & Bistrô, uma franquia de restaurantes populares que oferece uma ampla variedade de pratos da culinária francesa e italiana. Ela recebeu uma demanda para analisar os dados das vendas de “Ratatouille” no 2º semestre de 2023. Podemos observar como está a estrutura dos dados na tabela abaixo:"
   ]
  },
  {
   "cell_type": "code",
   "execution_count": 119,
   "metadata": {},
   "outputs": [
    {
     "data": {
      "text/html": [
       "<div>\n",
       "<style scoped>\n",
       "    .dataframe tbody tr th:only-of-type {\n",
       "        vertical-align: middle;\n",
       "    }\n",
       "\n",
       "    .dataframe tbody tr th {\n",
       "        vertical-align: top;\n",
       "    }\n",
       "\n",
       "    .dataframe thead th {\n",
       "        text-align: right;\n",
       "    }\n",
       "</style>\n",
       "<table border=\"1\" class=\"dataframe\">\n",
       "  <thead>\n",
       "    <tr style=\"text-align: right;\">\n",
       "      <th></th>\n",
       "      <th>id</th>\n",
       "      <th>data</th>\n",
       "      <th>produto</th>\n",
       "      <th>valor</th>\n",
       "      <th>metodo_pagamento</th>\n",
       "    </tr>\n",
       "  </thead>\n",
       "  <tbody>\n",
       "    <tr>\n",
       "      <th>0</th>\n",
       "      <td>2720</td>\n",
       "      <td>2023-07-01</td>\n",
       "      <td>Risoto de Funghi</td>\n",
       "      <td>13.0</td>\n",
       "      <td>Cartão de Débito</td>\n",
       "    </tr>\n",
       "    <tr>\n",
       "      <th>1</th>\n",
       "      <td>2721</td>\n",
       "      <td>2023-07-02</td>\n",
       "      <td>Tiramisù</td>\n",
       "      <td>10.0</td>\n",
       "      <td>Cartão de Débito</td>\n",
       "    </tr>\n",
       "    <tr>\n",
       "      <th>2</th>\n",
       "      <td>2722</td>\n",
       "      <td>2023-07-02</td>\n",
       "      <td>Tiramisù</td>\n",
       "      <td>10.0</td>\n",
       "      <td>Cartão de Crédito</td>\n",
       "    </tr>\n",
       "    <tr>\n",
       "      <th>3</th>\n",
       "      <td>2723</td>\n",
       "      <td>2023-07-02</td>\n",
       "      <td>Ratatouille</td>\n",
       "      <td>8.5</td>\n",
       "      <td>PIX</td>\n",
       "    </tr>\n",
       "    <tr>\n",
       "      <th>4</th>\n",
       "      <td>2724</td>\n",
       "      <td>2023-07-03</td>\n",
       "      <td>Ratatouille</td>\n",
       "      <td>8.5</td>\n",
       "      <td>Dinheiro</td>\n",
       "    </tr>\n",
       "  </tbody>\n",
       "</table>\n",
       "</div>"
      ],
      "text/plain": [
       "     id        data           produto  valor   metodo_pagamento\n",
       "0  2720  2023-07-01  Risoto de Funghi   13.0   Cartão de Débito\n",
       "1  2721  2023-07-02          Tiramisù   10.0   Cartão de Débito\n",
       "2  2722  2023-07-02          Tiramisù   10.0  Cartão de Crédito\n",
       "3  2723  2023-07-02       Ratatouille    8.5                PIX\n",
       "4  2724  2023-07-03       Ratatouille    8.5           Dinheiro"
      ]
     },
     "execution_count": 119,
     "metadata": {},
     "output_type": "execute_result"
    }
   ],
   "source": [
    "dadosVendas.head()"
   ]
  },
  {
   "cell_type": "markdown",
   "metadata": {},
   "source": [
    "- A tabela possui os dados das vendas dos produtos da Serenatto no último semestre de 2023 da filial de São José do Rio Preto, e pode ser acessada a partir do arquivo serenato_2sem_2023.csv.\n",
    "\n",
    "- Para a análise, foram pedidas duas ações:\n",
    "    - Somatório de todas as vendas de “Ratatouille” do período;\n",
    "    - Frequência dos métodos de pagamento para o “Ratatouille”.\n",
    "\n",
    ">De acordo com o que aprendemos até o momento e utilizando a função query() para realizar a tarefa, faça os códigos para solucionar o que se pede."
   ]
  },
  {
   "cell_type": "code",
   "execution_count": 132,
   "metadata": {},
   "outputs": [],
   "source": [
    "vendas_Ratatouille = dadosVendas.query(\"produto == 'Ratatouille'\")['valor'].sum()"
   ]
  },
  {
   "cell_type": "code",
   "execution_count": 133,
   "metadata": {},
   "outputs": [],
   "source": [
    "frequencia_pagamento = dadosVendas.query(\"produto == 'Ratatouille'\")['metodo_pagamento'].value_counts()"
   ]
  },
  {
   "cell_type": "code",
   "execution_count": 140,
   "metadata": {},
   "outputs": [
    {
     "name": "stdout",
     "output_type": "stream",
     "text": [
      "O Somatório de todas as vendas realizadas de Ratatouille foi de:\n",
      "R$ 323.0\n",
      " \n",
      "Frequência dos pagamentos realizados:\n",
      "\n",
      "metodo_pagamento\n",
      "PIX                  13\n",
      "Cartão de Débito     10\n",
      "Dinheiro              9\n",
      "Cartão de Crédito     6\n",
      "Name: count, dtype: int64\n"
     ]
    }
   ],
   "source": [
    "print (f\"O Somatório de todas as vendas realizadas de Ratatouille foi de:\\nR$ {vendas_Ratatouille}\\n \")\n",
    "print (f\"Frequência dos pagamentos realizados:\\n\\n{frequencia_pagamento}\")"
   ]
  }
 ],
 "metadata": {
  "kernelspec": {
   "display_name": "Python 3",
   "language": "python",
   "name": "python3"
  },
  "language_info": {
   "codemirror_mode": {
    "name": "ipython",
    "version": 3
   },
   "file_extension": ".py",
   "mimetype": "text/x-python",
   "name": "python",
   "nbconvert_exporter": "python",
   "pygments_lexer": "ipython3",
   "version": "3.13.0"
  }
 },
 "nbformat": 4,
 "nbformat_minor": 2
}
