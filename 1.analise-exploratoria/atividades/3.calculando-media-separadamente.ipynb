{
 "cells": [
  {
   "cell_type": "markdown",
   "metadata": {},
   "source": [
    "# **Calculando a média separadamente**\n",
    "\n",
    ">Cláudia ama ciname e gosta de acompanhar os filmes, verificando como estão sendo avaliados e se a crítica é positiva ou não. Agora, ela quer analisar os filmes separadamente e, para isso, gostaria de calcular a média das notas de cada um dos filmes que ela extraiu do IMDB (InternetMovie Database) por meio de um arquivo .csv, gerando a tabela abaixo:"
   ]
  },
  {
   "cell_type": "code",
   "execution_count": 7,
   "metadata": {},
   "outputs": [
    {
     "data": {
      "text/html": [
       "<div>\n",
       "<style scoped>\n",
       "    .dataframe tbody tr th:only-of-type {\n",
       "        vertical-align: middle;\n",
       "    }\n",
       "\n",
       "    .dataframe tbody tr th {\n",
       "        vertical-align: top;\n",
       "    }\n",
       "\n",
       "    .dataframe thead th {\n",
       "        text-align: right;\n",
       "    }\n",
       "</style>\n",
       "<table border=\"1\" class=\"dataframe\">\n",
       "  <thead>\n",
       "    <tr style=\"text-align: right;\">\n",
       "      <th></th>\n",
       "      <th>id_usuario</th>\n",
       "      <th>id_filme</th>\n",
       "      <th>nota_da_critica</th>\n",
       "      <th>nota_usuario</th>\n",
       "    </tr>\n",
       "  </thead>\n",
       "  <tbody>\n",
       "    <tr>\n",
       "      <th>0</th>\n",
       "      <td>1</td>\n",
       "      <td>1</td>\n",
       "      <td>7.0</td>\n",
       "      <td>8.0</td>\n",
       "    </tr>\n",
       "    <tr>\n",
       "      <th>1</th>\n",
       "      <td>2</td>\n",
       "      <td>2</td>\n",
       "      <td>9.0</td>\n",
       "      <td>7.0</td>\n",
       "    </tr>\n",
       "    <tr>\n",
       "      <th>2</th>\n",
       "      <td>3</td>\n",
       "      <td>1</td>\n",
       "      <td>7.0</td>\n",
       "      <td>5.0</td>\n",
       "    </tr>\n",
       "    <tr>\n",
       "      <th>3</th>\n",
       "      <td>4</td>\n",
       "      <td>1</td>\n",
       "      <td>7.0</td>\n",
       "      <td>6.0</td>\n",
       "    </tr>\n",
       "    <tr>\n",
       "      <th>4</th>\n",
       "      <td>5</td>\n",
       "      <td>2</td>\n",
       "      <td>9.0</td>\n",
       "      <td>10.0</td>\n",
       "    </tr>\n",
       "  </tbody>\n",
       "</table>\n",
       "</div>"
      ],
      "text/plain": [
       "   id_usuario  id_filme  nota_da_critica  nota_usuario\n",
       "0           1         1              7.0           8.0\n",
       "1           2         2              9.0           7.0\n",
       "2           3         1              7.0           5.0\n",
       "3           4         1              7.0           6.0\n",
       "4           5         2              9.0          10.0"
      ]
     },
     "execution_count": 7,
     "metadata": {},
     "output_type": "execute_result"
    }
   ],
   "source": [
    "import pandas as pd\n",
    "\n",
    "avaliacoes_filmes = {'id_usuario': [1, 2, 3, 4, 5],\n",
    "                     'id_filme': [1, 2, 1, 1, 2],\n",
    "                     'nota_da_critica': [7.0, 9.0, 7.0, 7.0, 9.0],\n",
    "                     'nota_usuario': [8.0, 7.0, 5.0, 6.0, 10.0]}\n",
    "\n",
    "\n",
    "df_avaliacoes_filmes = pd.DataFrame(avaliacoes_filmes)\n",
    "df_avaliacoes_filmes"
   ]
  },
  {
   "cell_type": "markdown",
   "metadata": {},
   "source": [
    "- Podemos observar que os filmes são identificados pelo id_filme e pode possuir mais de uma avaliação. Cláudia gostaria de exibir apenas as médias das notas que vieram dos usuários.\n",
    "\n",
    "> De acordo com o que aprendemos até o momento, realize o cálculo da média que Cláudia deseja."
   ]
  },
  {
   "cell_type": "code",
   "execution_count": 31,
   "metadata": {},
   "outputs": [
    {
     "data": {
      "text/plain": [
       "id_filme\n",
       "1    6.333333\n",
       "2    8.500000\n",
       "Name: nota_usuario, dtype: float64"
      ]
     },
     "execution_count": 31,
     "metadata": {},
     "output_type": "execute_result"
    }
   ],
   "source": [
    "df_avaliacoes_filmes.groupby(\"id_filme\")[\"nota_usuario\"].mean()"
   ]
  }
 ],
 "metadata": {
  "kernelspec": {
   "display_name": "Python 3",
   "language": "python",
   "name": "python3"
  },
  "language_info": {
   "codemirror_mode": {
    "name": "ipython",
    "version": 3
   },
   "file_extension": ".py",
   "mimetype": "text/x-python",
   "name": "python",
   "nbconvert_exporter": "python",
   "pygments_lexer": "ipython3",
   "version": "3.13.0"
  }
 },
 "nbformat": 4,
 "nbformat_minor": 2
}
