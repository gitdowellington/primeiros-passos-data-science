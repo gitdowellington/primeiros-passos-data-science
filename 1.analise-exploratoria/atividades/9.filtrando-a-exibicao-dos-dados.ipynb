{
 "cells": [
  {
   "cell_type": "markdown",
   "metadata": {},
   "source": [
    "> Voltamos com a Maria e mais uma demanda com os dados da Serenatto - Café & Bistrô. Desta vez, Maria precisa gerar um gráfico que apresente todas as quantidades de vendas realizadas por cada método de pagamento da empresa no 2º semestre de 2023, exceto por meio do método de pagamento “Dinheiro”. Para exibir esses dados, ela construiu o gráfico abaixo:\n",
    "\n",
    "<img src = \"https://raw.githubusercontent.com/gitdowellington/primeiros-passos-data-science/refs/heads/main/1.analise-exploratoria/imagens/exceto%20dinheiro.png\" width = 300, height = 300>"
   ]
  },
  {
   "cell_type": "markdown",
   "metadata": {},
   "source": [
    "Sabendo que a base original é baseVendas e que os dados dos métodos de pagamento estão na coluna metodo_pagamento, construa o código que consegue demonstrar o gráfico de colunas com os dados desejados:"
   ]
  },
  {
   "cell_type": "code",
   "execution_count": 2,
   "metadata": {},
   "outputs": [
    {
     "data": {
      "text/html": [
       "<div>\n",
       "<style scoped>\n",
       "    .dataframe tbody tr th:only-of-type {\n",
       "        vertical-align: middle;\n",
       "    }\n",
       "\n",
       "    .dataframe tbody tr th {\n",
       "        vertical-align: top;\n",
       "    }\n",
       "\n",
       "    .dataframe thead th {\n",
       "        text-align: right;\n",
       "    }\n",
       "</style>\n",
       "<table border=\"1\" class=\"dataframe\">\n",
       "  <thead>\n",
       "    <tr style=\"text-align: right;\">\n",
       "      <th></th>\n",
       "      <th>id</th>\n",
       "      <th>data</th>\n",
       "      <th>produto</th>\n",
       "      <th>valor</th>\n",
       "      <th>metodo_pagamento</th>\n",
       "    </tr>\n",
       "  </thead>\n",
       "  <tbody>\n",
       "    <tr>\n",
       "      <th>0</th>\n",
       "      <td>2720</td>\n",
       "      <td>2023-07-01</td>\n",
       "      <td>Risoto de Funghi</td>\n",
       "      <td>13.0</td>\n",
       "      <td>Cartão de Débito</td>\n",
       "    </tr>\n",
       "    <tr>\n",
       "      <th>1</th>\n",
       "      <td>2721</td>\n",
       "      <td>2023-07-02</td>\n",
       "      <td>Tiramisù</td>\n",
       "      <td>10.0</td>\n",
       "      <td>Cartão de Débito</td>\n",
       "    </tr>\n",
       "    <tr>\n",
       "      <th>2</th>\n",
       "      <td>2722</td>\n",
       "      <td>2023-07-02</td>\n",
       "      <td>Tiramisù</td>\n",
       "      <td>10.0</td>\n",
       "      <td>Cartão de Crédito</td>\n",
       "    </tr>\n",
       "    <tr>\n",
       "      <th>3</th>\n",
       "      <td>2723</td>\n",
       "      <td>2023-07-02</td>\n",
       "      <td>Ratatouille</td>\n",
       "      <td>8.5</td>\n",
       "      <td>PIX</td>\n",
       "    </tr>\n",
       "    <tr>\n",
       "      <th>4</th>\n",
       "      <td>2724</td>\n",
       "      <td>2023-07-03</td>\n",
       "      <td>Ratatouille</td>\n",
       "      <td>8.5</td>\n",
       "      <td>Dinheiro</td>\n",
       "    </tr>\n",
       "  </tbody>\n",
       "</table>\n",
       "</div>"
      ],
      "text/plain": [
       "     id        data           produto  valor   metodo_pagamento\n",
       "0  2720  2023-07-01  Risoto de Funghi   13.0   Cartão de Débito\n",
       "1  2721  2023-07-02          Tiramisù   10.0   Cartão de Débito\n",
       "2  2722  2023-07-02          Tiramisù   10.0  Cartão de Crédito\n",
       "3  2723  2023-07-02       Ratatouille    8.5                PIX\n",
       "4  2724  2023-07-03       Ratatouille    8.5           Dinheiro"
      ]
     },
     "execution_count": 2,
     "metadata": {},
     "output_type": "execute_result"
    }
   ],
   "source": [
    "import pandas as pd\n",
    "baseVendas = pd.read_csv(\"https://raw.githubusercontent.com/gitdowellington/primeiros-passos-data-science/refs/heads/main/1.analise-exploratoria/base-dados/serenatto_2sem_2023.csv\")\n",
    "baseVendas.head()"
   ]
  },
  {
   "cell_type": "code",
   "execution_count": 6,
   "metadata": {},
   "outputs": [
    {
     "data": {
      "image/png": "[encoded data removed]",
      "text/plain": [
       "<Figure size 640x480 with 1 Axes>"
      ]
     },
     "metadata": {},
     "output_type": "display_data"
    }
   ],
   "source": [
    "import seaborn as sns\n",
    "import matplotlib.pyplot as plt \n",
    "\n",
    "sns.countplot(data= baseVendas.query(\"metodo_pagamento != 'Dinheiro'\"), x = 'metodo_pagamento')\n",
    "plt.title(\"Métodos de pagamento (Exceto Dinheiro\")\n",
    "plt.show()"
   ]
  },
  {
   "cell_type": "code",
   "execution_count": null,
   "metadata": {},
   "outputs": [],
   "source": []
  }
 ],
 "metadata": {
  "kernelspec": {
   "display_name": "Python 3",
   "language": "python",
   "name": "python3"
  },
  "language_info": {
   "codemirror_mode": {
    "name": "ipython",
    "version": 3
   },
   "file_extension": ".py",
   "mimetype": "text/x-python",
   "name": "python",
   "nbconvert_exporter": "python",
   "pygments_lexer": "ipython3",
   "version": "3.13.0"
  }
 },
 "nbformat": 4,
 "nbformat_minor": 2
}
