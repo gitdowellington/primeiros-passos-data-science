{
 "cells": [
  {
   "cell_type": "markdown",
   "metadata": {},
   "source": [
    "# Quais são os tipos de variáveis ?\n",
    "\n",
    ">Tiago importou uma base de dados com dados de alguns jogos de diferentes consoles e quer começar a explorá-la para praticar o que vem aprendendo neste curso de Data Science. A base que ele importou traz 5 colunas com dados sobre o nome dos jogos, o gênero que eles pertencem, as vendas globais do jogo, a nota da crítica e a quantidade de avaliações da crítica. Podemos observar os 5 primeiros registros na tabela abaixo:"
   ]
  },
  {
   "cell_type": "code",
   "execution_count": 1,
   "metadata": {},
   "outputs": [
    {
     "data": {
      "text/html": [
       "<div>\n",
       "<style scoped>\n",
       "    .dataframe tbody tr th:only-of-type {\n",
       "        vertical-align: middle;\n",
       "    }\n",
       "\n",
       "    .dataframe tbody tr th {\n",
       "        vertical-align: top;\n",
       "    }\n",
       "\n",
       "    .dataframe thead th {\n",
       "        text-align: right;\n",
       "    }\n",
       "</style>\n",
       "<table border=\"1\" class=\"dataframe\">\n",
       "  <thead>\n",
       "    <tr style=\"text-align: right;\">\n",
       "      <th></th>\n",
       "      <th>Nome</th>\n",
       "      <th>Genero</th>\n",
       "      <th>Vendas_Globais</th>\n",
       "      <th>Nota_da_Critica</th>\n",
       "      <th>Qtd_Aval_Critica</th>\n",
       "    </tr>\n",
       "  </thead>\n",
       "  <tbody>\n",
       "    <tr>\n",
       "      <th>0</th>\n",
       "      <td>Wii Sports</td>\n",
       "      <td>Sports</td>\n",
       "      <td>82.53</td>\n",
       "      <td>C</td>\n",
       "      <td>51</td>\n",
       "    </tr>\n",
       "    <tr>\n",
       "      <th>1</th>\n",
       "      <td>Mario Kart Wii</td>\n",
       "      <td>Racing</td>\n",
       "      <td>35.52</td>\n",
       "      <td>B</td>\n",
       "      <td>73</td>\n",
       "    </tr>\n",
       "    <tr>\n",
       "      <th>2</th>\n",
       "      <td>Wii Sports Resort</td>\n",
       "      <td>Sports</td>\n",
       "      <td>32.77</td>\n",
       "      <td>B</td>\n",
       "      <td>73</td>\n",
       "    </tr>\n",
       "    <tr>\n",
       "      <th>3</th>\n",
       "      <td>New Super Mario Bros</td>\n",
       "      <td>Platform</td>\n",
       "      <td>29.80</td>\n",
       "      <td>B</td>\n",
       "      <td>65</td>\n",
       "    </tr>\n",
       "    <tr>\n",
       "      <th>4</th>\n",
       "      <td>Wii Play</td>\n",
       "      <td>Misc</td>\n",
       "      <td>28.92</td>\n",
       "      <td>F</td>\n",
       "      <td>41</td>\n",
       "    </tr>\n",
       "  </tbody>\n",
       "</table>\n",
       "</div>"
      ],
      "text/plain": [
       "                   Nome    Genero  Vendas_Globais Nota_da_Critica  \\\n",
       "0            Wii Sports    Sports           82.53               C   \n",
       "1        Mario Kart Wii    Racing           35.52               B   \n",
       "2     Wii Sports Resort    Sports           32.77               B   \n",
       "3  New Super Mario Bros  Platform           29.80               B   \n",
       "4              Wii Play      Misc           28.92               F   \n",
       "\n",
       "   Qtd_Aval_Critica  \n",
       "0                51  \n",
       "1                73  \n",
       "2                73  \n",
       "3                65  \n",
       "4                41  "
      ]
     },
     "execution_count": 1,
     "metadata": {},
     "output_type": "execute_result"
    }
   ],
   "source": [
    "import pandas as pd\n",
    "dadosJogos = {'Nome': ['Wii Sports', 'Mario Kart Wii', 'Wii Sports Resort', 'New Super Mario Bros', 'Wii Play'],\n",
    "              'Genero': ['Sports', 'Racing', 'Sports', 'Platform', 'Misc'],\n",
    "              'Vendas_Globais': [82.53, 35.52, 32.77, 29.80, 28.92],\n",
    "              'Nota_da_Critica': ['C', 'B', 'B', 'B', 'F'],\n",
    "              'Qtd_Aval_Critica': [51, 73, 73, 65, 41]}\n",
    "dadosJogos = pd.DataFrame(dadosJogos)\n",
    "dadosJogos"
   ]
  },
  {
   "cell_type": "markdown",
   "metadata": {},
   "source": [
    "> De acordo com o que aprendemos até o momento, qual das alternativas abaixo traz os tipos corretos das variáveis da tabela da esquerda para direita?"
   ]
  },
  {
   "cell_type": "markdown",
   "metadata": {},
   "source": [
    "### Resposta:\n",
    "\n",
    "- **Nome:** Variável qualitativa nominal\n",
    "- **Genero:** Variável qualitativa nominal\n",
    "- **Vendas_Globais:** Variável quantitativa continua\n",
    "- **Nota_da_Critica:** Variável qualitativa ordinal\n",
    "- **Qtd_Aval_Critica:** Variavel quantitativa discreta"
   ]
  }
 ],
 "metadata": {
  "kernelspec": {
   "display_name": "Python 3",
   "language": "python",
   "name": "python3"
  },
  "language_info": {
   "codemirror_mode": {
    "name": "ipython",
    "version": 3
   },
   "file_extension": ".py",
   "mimetype": "text/x-python",
   "name": "python",
   "nbconvert_exporter": "python",
   "pygments_lexer": "ipython3",
   "version": "3.13.0"
  }
 },
 "nbformat": 4,
 "nbformat_minor": 2
}
