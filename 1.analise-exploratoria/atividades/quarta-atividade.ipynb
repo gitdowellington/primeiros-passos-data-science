{
 "cells": [
  {
   "cell_type": "markdown",
   "metadata": {},
   "source": [
    "# Valores únicos\n",
    "\n",
    "> Uma rede nacional de escolas de línguas precisa identificar, dentro da sua base de docentes, quantas línguas diferentes são lecionadas em suas unidades. A empresa contratou a analista de dados Cláudia para fazer esse trabalho e passou para ela a base nacional completa com todos os docentes e as línguas que eles lecionam em formato .csv. Logo abaixo, podemos observar as primeiras linhas do arquivo:"
   ]
  },
  {
   "cell_type": "markdown",
   "metadata": {},
   "source": []
  }
 ],
 "metadata": {
  "language_info": {
   "name": "python"
  }
 },
 "nbformat": 4,
 "nbformat_minor": 2
}
