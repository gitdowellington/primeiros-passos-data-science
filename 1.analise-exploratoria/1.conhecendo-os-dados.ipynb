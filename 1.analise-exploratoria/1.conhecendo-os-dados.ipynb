{
 "cells": [
  {
   "cell_type": "markdown",
   "metadata": {
    "id": "i2OS-UFssMul"
   },
   "source": [
    "# <strong>1.0- Conhecendo os Dados</strong>\n",
    "\n",
    "- 1.1- Biblioteca Pandas.\n",
    "- 1.2- Método .read_csv( ).\n",
    "- 1.3- Método .shape.\n",
    "- 1.4- Método .columns.\n",
    "- 1.5- Método .head( ).\n",
    "- 1.6- Como obter dados de uma coluna específica de um DataFrame.\n",
    "- 1.7- Método .unique( ).\n",
    "- 1.8- Método .value_counts( ).\n",
    "- 1.9- Métodos de agregação.\n",
    "- 1.10- Método .plot(kind='hist').\n",
    "- 1.11- Método .describe( ).\n",
    "- 1.12- Biblioteca Seaborn.\n",
    "- 1.13- Biblioteca Matplotlib.\n",
    "- 1.14- Series e DataFrame."
   ]
  },
  {
   "cell_type": "markdown",
   "metadata": {},
   "source": [
    "Observação: Nestes estudos utilizaremos a base de dados que foi baixada em;"
   ]
  },
  {
   "cell_type": "markdown",
   "metadata": {
    "id": "m8eU5Bo8rpHD"
   },
   "source": [
    "**1.1- Biblioteca Pandas**\n",
    "\n",
    "- O Pandas é uma biblioteca Python de código aberto, amplamente utilizada no campo da ciência de dados, que oferece estruturas de dados eficientes e ferramentas flexíveis para manipulação e análise de dados. Imagine-o como um \"Excel\" superpoderoso e programável, com recursos muito mais avançados.\n",
    "\n",
    "*Aplicações típicas do Pandas:*\n",
    "\n",
    "  - Limpeza e preparação de dados:\n",
    "    - Lidar com dados faltantes, inconsistências e transformar os dados em um formato adequado para análise.\n",
    "  - Análise exploratória de dados: \n",
    "    - Descrever os dados, identificar padrões, encontrar relações entre variáveis.\n",
    "  - Modelagem de dados: \n",
    "    - Preparar os dados para serem utilizados em modelos de machine learning.\n"
   ]
  },
  {
   "cell_type": "markdown",
   "metadata": {},
   "source": [
    "- Exemplo de como importar a biblioteca Pandas:"
   ]
  },
  {
   "cell_type": "code",
   "execution_count": 20,
   "metadata": {
    "id": "hzylgdpprVHK"
   },
   "outputs": [],
   "source": [
    "import pandas as pd"
   ]
  },
  {
   "cell_type": "markdown",
   "metadata": {
    "id": "LldZD9VuuZlh"
   },
   "source": [
    "**1.2-   Método read_csv( )**\n",
    "\n",
    "- O método read_csv( ) é uma das ferramentas mais poderosas do Pandas para importar dados de arquivos CSV (Comma-Separated Values) para um DataFrame. Um DataFrame é a estrutura de dados principal do Pandas, similar a uma tabela em um banco de dados ou uma planilha.\n",
    "\n",
    "*O que ele faz ?*\n",
    "\n",
    "- Leitura de arquivos CSV:  Lê os dados de um arquivo CSV e os organiza em um DataFrame, onde cada linha do arquivo se torna uma linha do DataFrame e cada coluna do arquivo se torna uma coluna do DataFrame."
   ]
  },
  {
   "cell_type": "markdown",
   "metadata": {},
   "source": [
    " - Exemplo de como ler um arquivo .csv:"
   ]
  },
  {
   "cell_type": "code",
   "execution_count": 21,
   "metadata": {
    "id": "uBIh5ISsrkMH"
   },
   "outputs": [
    {
     "data": {
      "text/html": [
       "<div>\n",
       "<style scoped>\n",
       "    .dataframe tbody tr th:only-of-type {\n",
       "        vertical-align: middle;\n",
       "    }\n",
       "\n",
       "    .dataframe tbody tr th {\n",
       "        vertical-align: top;\n",
       "    }\n",
       "\n",
       "    .dataframe thead th {\n",
       "        text-align: right;\n",
       "    }\n",
       "</style>\n",
       "<table border=\"1\" class=\"dataframe\">\n",
       "  <thead>\n",
       "    <tr style=\"text-align: right;\">\n",
       "      <th></th>\n",
       "      <th>userId</th>\n",
       "      <th>movieId</th>\n",
       "      <th>rating</th>\n",
       "      <th>timestamp</th>\n",
       "    </tr>\n",
       "  </thead>\n",
       "  <tbody>\n",
       "    <tr>\n",
       "      <th>0</th>\n",
       "      <td>1</td>\n",
       "      <td>1</td>\n",
       "      <td>4.0</td>\n",
       "      <td>964982703</td>\n",
       "    </tr>\n",
       "    <tr>\n",
       "      <th>1</th>\n",
       "      <td>1</td>\n",
       "      <td>3</td>\n",
       "      <td>4.0</td>\n",
       "      <td>964981247</td>\n",
       "    </tr>\n",
       "    <tr>\n",
       "      <th>2</th>\n",
       "      <td>1</td>\n",
       "      <td>6</td>\n",
       "      <td>4.0</td>\n",
       "      <td>964982224</td>\n",
       "    </tr>\n",
       "    <tr>\n",
       "      <th>3</th>\n",
       "      <td>1</td>\n",
       "      <td>47</td>\n",
       "      <td>5.0</td>\n",
       "      <td>964983815</td>\n",
       "    </tr>\n",
       "    <tr>\n",
       "      <th>4</th>\n",
       "      <td>1</td>\n",
       "      <td>50</td>\n",
       "      <td>5.0</td>\n",
       "      <td>964982931</td>\n",
       "    </tr>\n",
       "    <tr>\n",
       "      <th>...</th>\n",
       "      <td>...</td>\n",
       "      <td>...</td>\n",
       "      <td>...</td>\n",
       "      <td>...</td>\n",
       "    </tr>\n",
       "    <tr>\n",
       "      <th>100831</th>\n",
       "      <td>610</td>\n",
       "      <td>166534</td>\n",
       "      <td>4.0</td>\n",
       "      <td>1493848402</td>\n",
       "    </tr>\n",
       "    <tr>\n",
       "      <th>100832</th>\n",
       "      <td>610</td>\n",
       "      <td>168248</td>\n",
       "      <td>5.0</td>\n",
       "      <td>1493850091</td>\n",
       "    </tr>\n",
       "    <tr>\n",
       "      <th>100833</th>\n",
       "      <td>610</td>\n",
       "      <td>168250</td>\n",
       "      <td>5.0</td>\n",
       "      <td>1494273047</td>\n",
       "    </tr>\n",
       "    <tr>\n",
       "      <th>100834</th>\n",
       "      <td>610</td>\n",
       "      <td>168252</td>\n",
       "      <td>5.0</td>\n",
       "      <td>1493846352</td>\n",
       "    </tr>\n",
       "    <tr>\n",
       "      <th>100835</th>\n",
       "      <td>610</td>\n",
       "      <td>170875</td>\n",
       "      <td>3.0</td>\n",
       "      <td>1493846415</td>\n",
       "    </tr>\n",
       "  </tbody>\n",
       "</table>\n",
       "<p>100836 rows × 4 columns</p>\n",
       "</div>"
      ],
      "text/plain": [
       "        userId  movieId  rating   timestamp\n",
       "0            1        1     4.0   964982703\n",
       "1            1        3     4.0   964981247\n",
       "2            1        6     4.0   964982224\n",
       "3            1       47     5.0   964983815\n",
       "4            1       50     5.0   964982931\n",
       "...        ...      ...     ...         ...\n",
       "100831     610   166534     4.0  1493848402\n",
       "100832     610   168248     5.0  1493850091\n",
       "100833     610   168250     5.0  1494273047\n",
       "100834     610   168252     5.0  1493846352\n",
       "100835     610   170875     3.0  1493846415\n",
       "\n",
       "[100836 rows x 4 columns]"
      ]
     },
     "execution_count": 21,
     "metadata": {},
     "output_type": "execute_result"
    }
   ],
   "source": [
    "baseNotas = pd.read_csv(\"https://raw.githubusercontent.com/gitdowellington/primeiros-passos-data-science/refs/heads/main/1.analise-exploratoria/base-dados/ratings.csv\")\n",
    "\n",
    "baseNotas"
   ]
  },
  {
   "cell_type": "markdown",
   "metadata": {
    "id": "GVzpMuzavxov"
   },
   "source": [
    "**1.3- Método .shape**\n",
    "\n",
    "- Imagine um DataFrame como uma tabela. O método .shape é como uma régua que você usa para medir essa tabela. Ele te diz quantas linhas (registros) e quantas colunas (variáveis) essa tabela possui. \n",
    "\n",
    "- O resultado é apresentado como uma tupla (uma lista imutável) com dois números: o primeiro indica o número de linhas e o segundo, o número de colunas."
   ]
  },
  {
   "cell_type": "markdown",
   "metadata": {},
   "source": [
    "- Exemplo de como usar o método .shape:"
   ]
  },
  {
   "cell_type": "code",
   "execution_count": 22,
   "metadata": {
    "colab": {
     "base_uri": "https://localhost:8080/"
    },
    "id": "RziHAF-3uVbC",
    "outputId": "704db9a3-7e76-45bb-b7b9-71c400f3f4c8"
   },
   "outputs": [
    {
     "data": {
      "text/plain": [
       "(100836, 4)"
      ]
     },
     "execution_count": 22,
     "metadata": {},
     "output_type": "execute_result"
    }
   ],
   "source": [
    "baseNotas.shape"
   ]
  },
  {
   "cell_type": "markdown",
   "metadata": {
    "id": "73QpR7GiySt0"
   },
   "source": [
    "**1.4- Método .columns**\n",
    "\n",
    "- O método .columns é uma ferramenta fundamental para trabalhar com DataFrames no Pandas. Ele te dá uma visão geral das colunas presentes em seu conjunto de dados e permite que você manipule essas colunas de diversas formas.\n",
    "\n",
    "*Quando usar ?*\n",
    "\n",
    "- Análise exploratória de dados: \n",
    "    - Para entender a estrutura das suas variáveis.\n",
    "- Manipulação de dados: \n",
    "    - Para selecionar, renomear ou excluir colunas.\n",
    "- Visualização de dados:\n",
    "    - Para criar gráficos e tabelas com as colunas desejadas."
   ]
  },
  {
   "cell_type": "markdown",
   "metadata": {},
   "source": [
    "- Exemplo de como obter o nome das colunas presentes:"
   ]
  },
  {
   "cell_type": "code",
   "execution_count": 23,
   "metadata": {
    "colab": {
     "base_uri": "https://localhost:8080/"
    },
    "id": "X0fucfXdvr3D",
    "outputId": "74aa30c5-fb6b-48f1-fedc-bb137fff3225"
   },
   "outputs": [
    {
     "data": {
      "text/plain": [
       "Index(['userId', 'movieId', 'rating', 'timestamp'], dtype='object')"
      ]
     },
     "execution_count": 23,
     "metadata": {},
     "output_type": "execute_result"
    }
   ],
   "source": [
    "baseNotas.columns"
   ]
  },
  {
   "cell_type": "markdown",
   "metadata": {
    "id": "FwXfL_zy6AmW"
   },
   "source": [
    "- Exemplo de como alterar o nome das colunas presentes:"
   ]
  },
  {
   "cell_type": "code",
   "execution_count": 24,
   "metadata": {
    "colab": {
     "base_uri": "https://localhost:8080/",
     "height": 424
    },
    "id": "PR6xwLpQvg1u",
    "outputId": "3131b0e5-804a-44b8-88d7-4e3b2a01bc87"
   },
   "outputs": [
    {
     "data": {
      "text/plain": [
       "Index(['usuarioId', 'filmeId', 'nota', 'momento'], dtype='object')"
      ]
     },
     "execution_count": 24,
     "metadata": {},
     "output_type": "execute_result"
    }
   ],
   "source": [
    "baseNotas.columns = [\"usuarioId\", \"filmeId\", \"nota\", \"momento\"]\n",
    "\n",
    "baseNotas.columns"
   ]
  },
  {
   "cell_type": "markdown",
   "metadata": {
    "id": "GgpcfGj76cao"
   },
   "source": [
    "**1.5- Método .head( )**\n",
    "\n",
    "- Imagine um DataFrame como uma tabela. O método .head( ) é como dar uma \"espiadinha\" nas primeiras linhas dessa tabela. Ele te mostra as primeiras linhas do seu DataFrame, te dando uma visão rápida do que os seus dados contêm.\n",
    "\n",
    "*Pra que serve ?*\n",
    "\n",
    "- Visualização rápida: \n",
    "    - É uma forma rápida de ter uma ideia geral da estrutura e do conteúdo do seu DataFrame.\n",
    "- Verificação de dados: \n",
    "    - Permite verificar se os dados foram carregados corretamente e se estão no formato esperado.\n",
    "- Exploração de dados: \n",
    "    - Ajuda a identificar possíveis problemas nos dados, como valores ausentes ou inconsistências."
   ]
  },
  {
   "cell_type": "markdown",
   "metadata": {},
   "source": [
    " - Exemplo de como usar o método .head( ): "
   ]
  },
  {
   "cell_type": "code",
   "execution_count": 25,
   "metadata": {
    "colab": {
     "base_uri": "https://localhost:8080/",
     "height": 206
    },
    "id": "xFzB8sgXw357",
    "outputId": "56219818-1e4c-4a46-d5be-abc859ed5e60"
   },
   "outputs": [
    {
     "data": {
      "text/html": [
       "<div>\n",
       "<style scoped>\n",
       "    .dataframe tbody tr th:only-of-type {\n",
       "        vertical-align: middle;\n",
       "    }\n",
       "\n",
       "    .dataframe tbody tr th {\n",
       "        vertical-align: top;\n",
       "    }\n",
       "\n",
       "    .dataframe thead th {\n",
       "        text-align: right;\n",
       "    }\n",
       "</style>\n",
       "<table border=\"1\" class=\"dataframe\">\n",
       "  <thead>\n",
       "    <tr style=\"text-align: right;\">\n",
       "      <th></th>\n",
       "      <th>usuarioId</th>\n",
       "      <th>filmeId</th>\n",
       "      <th>nota</th>\n",
       "      <th>momento</th>\n",
       "    </tr>\n",
       "  </thead>\n",
       "  <tbody>\n",
       "    <tr>\n",
       "      <th>0</th>\n",
       "      <td>1</td>\n",
       "      <td>1</td>\n",
       "      <td>4.0</td>\n",
       "      <td>964982703</td>\n",
       "    </tr>\n",
       "    <tr>\n",
       "      <th>1</th>\n",
       "      <td>1</td>\n",
       "      <td>3</td>\n",
       "      <td>4.0</td>\n",
       "      <td>964981247</td>\n",
       "    </tr>\n",
       "    <tr>\n",
       "      <th>2</th>\n",
       "      <td>1</td>\n",
       "      <td>6</td>\n",
       "      <td>4.0</td>\n",
       "      <td>964982224</td>\n",
       "    </tr>\n",
       "    <tr>\n",
       "      <th>3</th>\n",
       "      <td>1</td>\n",
       "      <td>47</td>\n",
       "      <td>5.0</td>\n",
       "      <td>964983815</td>\n",
       "    </tr>\n",
       "    <tr>\n",
       "      <th>4</th>\n",
       "      <td>1</td>\n",
       "      <td>50</td>\n",
       "      <td>5.0</td>\n",
       "      <td>964982931</td>\n",
       "    </tr>\n",
       "  </tbody>\n",
       "</table>\n",
       "</div>"
      ],
      "text/plain": [
       "   usuarioId  filmeId  nota    momento\n",
       "0          1        1   4.0  964982703\n",
       "1          1        3   4.0  964981247\n",
       "2          1        6   4.0  964982224\n",
       "3          1       47   5.0  964983815\n",
       "4          1       50   5.0  964982931"
      ]
     },
     "execution_count": 25,
     "metadata": {},
     "output_type": "execute_result"
    }
   ],
   "source": [
    "baseNotas.head()"
   ]
  },
  {
   "cell_type": "markdown",
   "metadata": {
    "id": "wLvIR5kUEjeh"
   },
   "source": [
    "**1.6- Como Obter Dados de uma Coluna Específica de um DataFrame.**\n",
    "\n",
    "- Para acessar os dados de uma coluna específica, você pode usar a sintaxe de colchetes [ ] com o nome da coluna dentro deles."
   ]
  },
  {
   "cell_type": "markdown",
   "metadata": {},
   "source": [
    "- Exemplo de como obter dados de uma coluna específica de um DataFrame:"
   ]
  },
  {
   "cell_type": "code",
   "execution_count": 26,
   "metadata": {
    "colab": {
     "base_uri": "https://localhost:8080/",
     "height": 458
    },
    "id": "GqgH8Yq4AFDP",
    "outputId": "39751887-68e8-494f-8612-f4ecc595f55f"
   },
   "outputs": [
    {
     "data": {
      "text/plain": [
       "0         4.0\n",
       "1         4.0\n",
       "2         4.0\n",
       "3         5.0\n",
       "4         5.0\n",
       "         ... \n",
       "100831    4.0\n",
       "100832    5.0\n",
       "100833    5.0\n",
       "100834    5.0\n",
       "100835    3.0\n",
       "Name: nota, Length: 100836, dtype: float64"
      ]
     },
     "execution_count": 26,
     "metadata": {},
     "output_type": "execute_result"
    }
   ],
   "source": [
    "baseNotas['nota']"
   ]
  },
  {
   "cell_type": "markdown",
   "metadata": {
    "id": "EiCi1jgEBr47"
   },
   "source": [
    "**1.7- Método .unique( )**\n",
    "\n",
    "- No Pandas, o método .unique( ) é utilizado para encontrar todos os valores únicos presentes em uma série (uma coluna de um DataFrame). Em outras palavras, ele remove todas as duplicatas e retorna uma lista com os valores distintos encontrados.\n",
    "\n",
    "*Pra que serve ?*\n",
    "\n",
    "- Identificar valores únicos: \n",
    "    - É fundamental para entender a diversidade de valores em uma coluna, especialmente em colunas categóricas.\n",
    "- Limpeza de dados: \n",
    "    - Ajuda a identificar possíveis erros de digitação ou valores duplicados que podem afetar a análise.\n",
    "- Análise exploratória de dados: \n",
    "    - Permite visualizar rapidamente quais são os valores possíveis para uma determinada variável.\n",
    "- Preparação de dados para modelagem: \n",
    "    - É útil para criar variáveis dummy ou one-hot encoding para variáveis categóricas com poucos níveis."
   ]
  },
  {
   "cell_type": "markdown",
   "metadata": {},
   "source": [
    "- Exemplo de como usar o método .unique( ):"
   ]
  },
  {
   "cell_type": "code",
   "execution_count": 27,
   "metadata": {
    "colab": {
     "base_uri": "https://localhost:8080/"
    },
    "id": "gncYJAFUAL2Q",
    "outputId": "3a9c8c62-f9be-457c-b77f-4a0c18918c78"
   },
   "outputs": [
    {
     "data": {
      "text/plain": [
       "array([4. , 5. , 3. , 2. , 1. , 4.5, 3.5, 2.5, 0.5, 1.5])"
      ]
     },
     "execution_count": 27,
     "metadata": {},
     "output_type": "execute_result"
    }
   ],
   "source": [
    "baseNotas['nota'].unique()"
   ]
  },
  {
   "cell_type": "markdown",
   "metadata": {
    "id": "K7xrNwN3B5bn"
   },
   "source": [
    "**1.8- Método .value_counts( )**\n",
    "\n",
    "- O método .value_counts( ) no Pandas é utilizado para contar a frequência de cada valor único em uma série (coluna) de um DataFrame. Em outras palavras, ele te diz quantas vezes cada valor diferente aparece naquela coluna.\n",
    "\n",
    "*Pra que serve ?*\n",
    "\n",
    "- Análise exploratória de dados: \n",
    "    - É uma ferramenta essencial para entender a distribuição dos valores em uma variável.\n",
    "- Limpeza de dados: \n",
    "    - Ajuda a identificar valores outliers ou erros de digitação que podem aparecer com baixa frequência.\n",
    "- Visualização de dados: \n",
    "    - Pode ser usado para criar gráficos de barras ou outros tipos de visualizações que mostrem a distribuição dos valores."
   ]
  },
  {
   "cell_type": "markdown",
   "metadata": {},
   "source": [
    "- Exemplo de como usar o método .value_counts( ):"
   ]
  },
  {
   "cell_type": "code",
   "execution_count": 28,
   "metadata": {
    "colab": {
     "base_uri": "https://localhost:8080/",
     "height": 429
    },
    "id": "cu9KlQ8vBaKl",
    "outputId": "b61f2764-c368-40d8-e50c-c2e5c3346e76"
   },
   "outputs": [
    {
     "data": {
      "text/plain": [
       "nota\n",
       "4.0    26818\n",
       "3.0    20047\n",
       "5.0    13211\n",
       "3.5    13136\n",
       "4.5     8551\n",
       "2.0     7551\n",
       "2.5     5550\n",
       "1.0     2811\n",
       "1.5     1791\n",
       "0.5     1370\n",
       "Name: count, dtype: int64"
      ]
     },
     "execution_count": 28,
     "metadata": {},
     "output_type": "execute_result"
    }
   ],
   "source": [
    "baseNotas['nota'].value_counts()"
   ]
  },
  {
   "cell_type": "markdown",
   "metadata": {},
   "source": [
    "**1.9- Métodos de agregação.**\n",
    "\n",
    "- Métodos de agregação são funções que reduzem um conjunto de valores a um único valor. Por exemplo, ao calcular a média de uma coluna numérica, você está reduzindo todos os valores dessa coluna a um único número representativo.\n",
    "\n",
    "*Principais métodos de agregação:*\n",
    "\n",
    "- .count( ):\n",
    "    - Conta o número de valores não-nulos em uma coluna.\n",
    "- .sum( ):\n",
    "    - Calcula a soma de todos os valores em uma coluna numérica.\n",
    "- .mean( ):\n",
    "    - Calcula a média (média aritmética) de todos os valores em uma coluna numérica.\n",
    "- .median( ):\n",
    "    - Calcula a mediana (valor central) de todos os valores em uma coluna numérica.\n",
    "- .std( ):\n",
    "    - Calcula o desvio padrão dos valores em uma coluna numérica.\n",
    "- .var( ):\n",
    "    - Calcula a variância dos valores em uma coluna numérica.\n",
    "- .min( ):\n",
    "    - Encontra o menor valor em uma coluna.\n",
    "- .max( ):\n",
    "    - Encontra o maior valor em uma coluna.\n",
    "- .quantile( ): Calcula os quantis (por exemplo, quartis, percentis) dos valores em uma coluna."
   ]
  },
  {
   "cell_type": "markdown",
   "metadata": {
    "id": "9RikqXRmCNU8"
   },
   "source": [
    "- Exemplo de como usar o método .mean( ):"
   ]
  },
  {
   "cell_type": "code",
   "execution_count": 29,
   "metadata": {
    "colab": {
     "base_uri": "https://localhost:8080/"
    },
    "id": "OY42KYLrB3I8",
    "outputId": "c2ed9d75-d0dd-4211-c0fd-a686c26b23e2"
   },
   "outputs": [
    {
     "data": {
      "text/plain": [
       "np.float64(3.501556983616962)"
      ]
     },
     "execution_count": 29,
     "metadata": {},
     "output_type": "execute_result"
    }
   ],
   "source": [
    "baseNotas['nota'].mean()"
   ]
  },
  {
   "cell_type": "markdown",
   "metadata": {
    "id": "ks_bfpZz_Vup"
   },
   "source": [
    "- Exemplo de como usar o método .median( ):"
   ]
  },
  {
   "cell_type": "code",
   "execution_count": 30,
   "metadata": {
    "colab": {
     "base_uri": "https://localhost:8080/"
    },
    "id": "Uwwv0pYnUPvT",
    "outputId": "add2214c-1738-4078-fb9c-98491580c2ef"
   },
   "outputs": [
    {
     "data": {
      "text/plain": [
       "np.float64(3.5)"
      ]
     },
     "execution_count": 30,
     "metadata": {},
     "output_type": "execute_result"
    }
   ],
   "source": [
    "baseNotas['nota'].median()"
   ]
  },
  {
   "cell_type": "markdown",
   "metadata": {
    "id": "N6L4kNqx_O5m"
   },
   "source": [
    "**1.10- Método .plot(kind='hist')**\n",
    "\n",
    "- O método .plot(kind='hist') no Pandas é uma ferramenta poderosa para visualizar a distribuição de dados numéricos em um DataFrame. Ele cria um histograma, que é um gráfico que divide os dados em intervalos (bins) e conta o número de observações em cada intervalo.\n",
    "\n",
    "*Pra que serve ?*\n",
    "\n",
    "- Visualizar a distribuição:\n",
    "    - Permite ver rapidamente como seus dados estão distribuídos, identificando padrões como normalidade, assimetria ou a presença de outliers.\n",
    "- Explorar dados: \n",
    "    - Ajuda a entender a natureza dos seus dados e tomar decisões sobre quais modelos estatísticos ou de machine learning utilizar.\n",
    "- Comunicar resultados: \n",
    "    - É uma forma eficaz de apresentar a distribuição dos dados para outras pessoas."
   ]
  },
  {
   "cell_type": "markdown",
   "metadata": {},
   "source": [
    "- Exemplo de como usar o método .plot(kind='hist'):"
   ]
  },
  {
   "cell_type": "code",
   "execution_count": 31,
   "metadata": {
    "colab": {
     "base_uri": "https://localhost:8080/",
     "height": 447
    },
    "id": "hAXfHRh8CJ6n",
    "outputId": "168e39c2-73db-426e-969a-db0b167eb833"
   },
   "outputs": [
    {
     "data": {
      "text/plain": [
       "<Axes: ylabel='Frequency'>"
      ]
     },
     "execution_count": 31,
     "metadata": {},
     "output_type": "execute_result"
    },
    {
     "data": {
      "image/png": "[encoded data removed]",
      "text/plain": [
       "<Figure size 640x480 with 1 Axes>"
      ]
     },
     "metadata": {},
     "output_type": "display_data"
    }
   ],
   "source": [
    "baseNotas[\"nota\"].plot(kind='hist')"
   ]
  },
  {
   "cell_type": "markdown",
   "metadata": {
    "id": "qm1ntxDGCt1a"
   },
   "source": [
    "**1.11- Método .describe( ).**\n",
    "\n",
    "- O método .describe() no Pandas é uma ferramenta poderosa para obter um resumo estatístico rápido de um DataFrame ou de uma Série (coluna) específica. Ele fornece uma visão geral das principais características numéricas dos seus dados, como medidas de tendência central (média, mediana) e dispersão (desvio padrão, quartis).\n",
    "\n",
    "*Pra que serve ?*\n",
    "\n",
    "- Análise exploratória de dados:\n",
    "    - É uma das primeiras ferramentas que você deve usar para entender seus dados.\n",
    "- Identificação de outliers:\n",
    "    - Ao analisar os valores mínimo e máximo, você pode identificar possíveis outliers nos seus dados.\n",
    "- Verificação de distribuição:\n",
    "    - Os quartis podem te dar uma ideia da forma da distribuição dos seus dados (se é simétrica ou assimétrica).\n",
    "- Preparação de dados:\n",
    "    - As informações fornecidas pelo .describe( ) podem te ajudar a decidir se é necessário normalizar ou padronizar os dados antes de aplicar modelos de machine learning."
   ]
  },
  {
   "cell_type": "markdown",
   "metadata": {},
   "source": [
    "- Exemplo de como usar o método .describe( ):"
   ]
  },
  {
   "cell_type": "code",
   "execution_count": 32,
   "metadata": {
    "colab": {
     "base_uri": "https://localhost:8080/",
     "height": 335
    },
    "id": "4tLyruokoHzh",
    "outputId": "4633edaa-34f0-4a79-d573-0bb5acc4cd60"
   },
   "outputs": [
    {
     "data": {
      "text/plain": [
       "count    100836.000000\n",
       "mean          3.501557\n",
       "std           1.042529\n",
       "min           0.500000\n",
       "25%           3.000000\n",
       "50%           3.500000\n",
       "75%           4.000000\n",
       "max           5.000000\n",
       "Name: nota, dtype: float64"
      ]
     },
     "execution_count": 32,
     "metadata": {},
     "output_type": "execute_result"
    }
   ],
   "source": [
    "baseNotas[\"nota\"].describe()"
   ]
  },
  {
   "cell_type": "markdown",
   "metadata": {
    "id": "sCGkw_POEnWc"
   },
   "source": [
    "**1.12- Biblioteca Seaborn.**\n",
    "\n",
    "- Seaborn é uma biblioteca de visualização de dados em Python, construída sobre o Matplotlib. Ela oferece uma interface de alto nível, facilitando a criação de gráficos estatísticos atraentes e informativos. A principal vantagem do Seaborn é sua integração perfeita com o Pandas, permitindo que você visualize seus dados diretamente de DataFrames.\n",
    "\n",
    "*Por que usar Seaborn ?*\n",
    "\n",
    "- Gráficos estatísticos:\n",
    "    - Seaborn é especializado em criar gráficos estatísticos, como scatter plots, box plots, histogramas e heatmaps, que são essenciais para entender a distribuição e as relações entre os seus dados.\n",
    "- Estilo visual:\n",
    "    - A biblioteca oferece estilos visuais pré-definidos, tornando seus gráficos mais profissionais e esteticamente agradáveis.\n",
    "- Facilidade de uso:\n",
    "    - A sintaxe do Seaborn é intuitiva e semelhante à do Pandas, facilitando a criação de visualizações.\n",
    "- Integração com Pandas:\n",
    "    - A integração perfeita com o Pandas permite que você visualize seus dados diretamente dos DataFrames, sem a necessidade de muitas transformações prévias.\n",
    "\n",
    "*Quais tipos de gráficos posso criar com Seaborn?*\n",
    "\n",
    "- Gráficos de dispersão (scatter plots):\n",
    "    - Para visualizar a relação entre duas variáveis numéricas.\n",
    "- Gráficos de linha:\n",
    "    - Para mostrar tendências ao longo do tempo ou de outra variável contínua.\n",
    "- Gráficos de barras:\n",
    "    - Para comparar categorias.\n",
    "- Box plots:\n",
    "    - Para visualizar a distribuição de dados, incluindo outliers.\n",
    "- Histogramas:\n",
    "    - Para mostrar a distribuição de uma variável numérica.\n",
    "- Heatmaps: \n",
    "    - Para visualizar correlações entre variáveis.\n",
    "- Pair plots:\n",
    "    - Para visualizar relações entre múltiplas variáveis em um único gráfico.\n"
   ]
  },
  {
   "cell_type": "markdown",
   "metadata": {},
   "source": [
    "- Exemplo de como importar a biblioteca Seaborn: "
   ]
  },
  {
   "cell_type": "code",
   "execution_count": 33,
   "metadata": {
    "id": "eHTImDqPoKrp"
   },
   "outputs": [],
   "source": [
    "import seaborn as sns"
   ]
  },
  {
   "cell_type": "markdown",
   "metadata": {
    "id": "Cc0fvzPvEgrF"
   },
   "source": [
    "- Exemplo de como criar um gráfico boxplot:"
   ]
  },
  {
   "cell_type": "code",
   "execution_count": 40,
   "metadata": {
    "colab": {
     "base_uri": "https://localhost:8080/",
     "height": 428
    },
    "id": "66lP5Pk_FdkS",
    "outputId": "8b3f822d-e8ae-4f8b-ff4d-ce58c979fe52"
   },
   "outputs": [
    {
     "data": {
      "text/plain": [
       "<Axes: ylabel='nota'>"
      ]
     },
     "execution_count": 40,
     "metadata": {},
     "output_type": "execute_result"
    },
    {
     "data": {
      "image/png": "[encoded data removed]",
      "text/plain": [
       "<Figure size 640x480 with 1 Axes>"
      ]
     },
     "metadata": {},
     "output_type": "display_data"
    }
   ],
   "source": [
    "sns.boxplot(baseNotas['nota'])"
   ]
  },
  {
   "cell_type": "markdown",
   "metadata": {},
   "source": [
    "- Exemplo de como criar um gráfico histograma:"
   ]
  },
  {
   "cell_type": "code",
   "execution_count": 48,
   "metadata": {},
   "outputs": [
    {
     "data": {
      "text/plain": [
       "<seaborn.axisgrid.FacetGrid at 0x255dbf86850>"
      ]
     },
     "execution_count": 48,
     "metadata": {},
     "output_type": "execute_result"
    },
    {
     "data": {
      "image/png": "[encoded data removed]",
      "text/plain": [
       "<Figure size 500x500 with 1 Axes>"
      ]
     },
     "metadata": {},
     "output_type": "display_data"
    }
   ],
   "source": [
    "sns.displot(baseNotas['nota'], kde = True)"
   ]
  },
  {
   "cell_type": "markdown",
   "metadata": {},
   "source": [
    "**1.13- Biblioteca matplotlib**\n",
    "\n",
    "- Matplotlib é uma biblioteca Python amplamente utilizada para criar gráficos estáticos, animados e interativos de alta qualidade. Com ela, você pode transformar dados numéricos em representações visuais que facilitam a compreensão e a análise.\n",
    "\n",
    "*Por que usar Matplotlib ?*\n",
    "\n",
    "- Flexibilidade: \n",
    "    - Permite criar uma grande variedade de gráficos, desde simples gráficos de linha até complexos gráficos 3D.\n",
    "- Personalização: \n",
    "    - Oferece um alto grau de controle sobre a aparência dos gráficos, permitindo que você ajuste cores, estilos, rótulos e outros elementos visuais.\n",
    "- Integração: \n",
    "    - Trabalha bem com outras bibliotecas populares de Python, como NumPy e Pandas, facilitando a análise e visualização de dados.\n",
    "- Comunidade:\n",
    "    - Possui uma comunidade ativa, o que significa que você encontrará muitos recursos e exemplos online.\n",
    "\n",
    "*Características principais:*\n",
    "\n",
    "- Gráficos 2D e 3D: \n",
    "    - Crie gráficos de linha, dispersão, barras, histogramas, pizza e muito mais em 2D e 3D.\n",
    "- Personalização: \n",
    "    - Ajuste cores, estilos de linha, marcadores, rótulos, legendas e outros elementos visuais.\n",
    "- Subplots: \n",
    "    - Crie múltiplos gráficos em uma mesma figura.\n",
    "- Animações:\n",
    "    - Crie gráficos animados para visualizar mudanças ao longo do tempo.\n",
    "- Interatividade:\n",
    "    - Integre com bibliotecas como Plotly para criar gráficos interativos."
   ]
  },
  {
   "cell_type": "markdown",
   "metadata": {},
   "source": [
    "- Exemplo de como importar a biblioteca Matplotlib:"
   ]
  },
  {
   "cell_type": "code",
   "execution_count": 43,
   "metadata": {},
   "outputs": [],
   "source": [
    "import matplotlib.pyplot as plt"
   ]
  },
  {
   "cell_type": "markdown",
   "metadata": {},
   "source": [
    "- Exemplo de como personalizar um gráfico, Adicionando um rótulo:"
   ]
  },
  {
   "cell_type": "code",
   "execution_count": 50,
   "metadata": {},
   "outputs": [
    {
     "data": {
      "text/plain": [
       "Text(0.5, 1.0, 'Histograma')"
      ]
     },
     "execution_count": 50,
     "metadata": {},
     "output_type": "execute_result"
    },
    {
     "data": {
      "image/png": "[encoded data removed]",
      "text/plain": [
       "<Figure size 500x500 with 1 Axes>"
      ]
     },
     "metadata": {},
     "output_type": "display_data"
    }
   ],
   "source": [
    "sns.displot(baseNotas['nota'], kde = True)\n",
    "plt.title(\"Histograma\")"
   ]
  },
  {
   "cell_type": "markdown",
   "metadata": {
    "id": "Xu6BsmAUl455"
   },
   "source": [
    "**1.13- Series e Dataframe:**\n",
    "\n",
    "- Series e DataFrame são estruturas de dados fundamentais no ecossistema do Pandas. Nós cientistas de dados nos debruçamos diariamente com essas estruturas e, por isso, é importante aprender sobre o que representam e como manipulá-las."
   ]
  },
  {
   "cell_type": "markdown",
   "metadata": {
    "id": "renzlaWiOEAA"
   },
   "source": [
    "**Dataframe**\n",
    "\n",
    " - Um DataFrame é uma estrutura tabular bidimensional, similar a uma planilha ou tabela de banco de dados, onde os dados são organizados em linhas e colunas.\n",
    "\n",
    "- Vamos criar um simples DataFrame e verificar a sua estrutura:"
   ]
  },
  {
   "cell_type": "code",
   "execution_count": 35,
   "metadata": {
    "colab": {
     "base_uri": "https://localhost:8080/",
     "height": 143
    },
    "id": "kwzQRhT6FnS2",
    "outputId": "391948e4-6477-46bf-9c3a-76b35e91af8a"
   },
   "outputs": [
    {
     "data": {
      "text/html": [
       "<div>\n",
       "<style scoped>\n",
       "    .dataframe tbody tr th:only-of-type {\n",
       "        vertical-align: middle;\n",
       "    }\n",
       "\n",
       "    .dataframe tbody tr th {\n",
       "        vertical-align: top;\n",
       "    }\n",
       "\n",
       "    .dataframe thead th {\n",
       "        text-align: right;\n",
       "    }\n",
       "</style>\n",
       "<table border=\"1\" class=\"dataframe\">\n",
       "  <thead>\n",
       "    <tr style=\"text-align: right;\">\n",
       "      <th></th>\n",
       "      <th>Nome</th>\n",
       "      <th>Idade</th>\n",
       "      <th>Salario</th>\n",
       "    </tr>\n",
       "  </thead>\n",
       "  <tbody>\n",
       "    <tr>\n",
       "      <th>0</th>\n",
       "      <td>Wellington</td>\n",
       "      <td>28</td>\n",
       "      <td>4720</td>\n",
       "    </tr>\n",
       "    <tr>\n",
       "      <th>1</th>\n",
       "      <td>Lizzy</td>\n",
       "      <td>27</td>\n",
       "      <td>2100</td>\n",
       "    </tr>\n",
       "    <tr>\n",
       "      <th>2</th>\n",
       "      <td>Manu</td>\n",
       "      <td>27</td>\n",
       "      <td>2600</td>\n",
       "    </tr>\n",
       "  </tbody>\n",
       "</table>\n",
       "</div>"
      ],
      "text/plain": [
       "         Nome  Idade  Salario\n",
       "0  Wellington     28     4720\n",
       "1       Lizzy     27     2100\n",
       "2        Manu     27     2600"
      ]
     },
     "execution_count": 35,
     "metadata": {},
     "output_type": "execute_result"
    }
   ],
   "source": [
    "dados = {'Nome': ['Wellington', 'Lizzy', \"Manu\"],\n",
    "         'Idade': [28,27, 27],\n",
    "         'Salario': [4720, 2100, 2600]}\n",
    "\n",
    "dfDados = pd.DataFrame(dados)\n",
    "dfDados"
   ]
  },
  {
   "cell_type": "markdown",
   "metadata": {
    "id": "BncmGz4HPfMO"
   },
   "source": [
    "*Explorando brevemente a sua estrutura:*\n",
    "\n",
    "- No lado esquerdo temos o índice (de 0 a 2) indicando a quantidade de registros que possuímos no DataFrame.\n",
    "\n",
    "- Em negrito no topo as colunas, que identificam a natureza dos dados e os valores que são a combinação entre o tipo de dado e a observação que ele representa, por exemplo, Mirla é um nome no índice de número 0.\n",
    "\n",
    "- Em um DataFrame, podemos aplicar funções para explorar, tratar e manipular os dados tanto em toda a sua estrutura como uma ou mais colunas (Series)\n",
    ".\n",
    "\n",
    "- Podemos observar, logo abaixo, dois exemplos de como explorar um Dataframe por inteiro e por apenas uma coluna:"
   ]
  },
  {
   "cell_type": "code",
   "execution_count": 36,
   "metadata": {
    "colab": {
     "base_uri": "https://localhost:8080/"
    },
    "id": "isfjGKuHO3LA",
    "outputId": "fc5ce5dd-7832-4055-b78a-0507d925be7e"
   },
   "outputs": [
    {
     "name": "stdout",
     "output_type": "stream",
     "text": [
      "<class 'pandas.core.frame.DataFrame'>\n",
      "RangeIndex: 3 entries, 0 to 2\n",
      "Data columns (total 3 columns):\n",
      " #   Column   Non-Null Count  Dtype \n",
      "---  ------   --------------  ----- \n",
      " 0   Nome     3 non-null      object\n",
      " 1   Idade    3 non-null      int64 \n",
      " 2   Salario  3 non-null      int64 \n",
      "dtypes: int64(2), object(1)\n",
      "memory usage: 204.0+ bytes\n"
     ]
    }
   ],
   "source": [
    "dfDados.info()"
   ]
  },
  {
   "cell_type": "markdown",
   "metadata": {
    "id": "1ch9EdY6QYoW"
   },
   "source": [
    "- Aqui é possível notar algumas observações sobre o DataFrame, como quantidade de registros e colunas, o tipo das variáveis da coluna (*Object* e *int64*), se possuem dados nulos e o uso de memória daqueles dados."
   ]
  },
  {
   "cell_type": "markdown",
   "metadata": {
    "id": "bnoqgY-DQ3hD"
   },
   "source": [
    "**Series**\n",
    "\n",
    "- Um Series por sua vez é uma estrutura unidimensional que armazena uma sequência de valores indexados. Podemos dizer que um DataFrame nada mais é que uma sequência de vários Series nomeados e organizados coluna por coluna e ordenados pelos índices."
   ]
  },
  {
   "cell_type": "code",
   "execution_count": 37,
   "metadata": {
    "colab": {
     "base_uri": "https://localhost:8080/",
     "height": 241
    },
    "id": "JCYCGCDaPQML",
    "outputId": "c5ef4364-ff7c-4be2-de72-d3ed1b38f3ed"
   },
   "outputs": [
    {
     "data": {
      "text/plain": [
       "0    45\n",
       "1    30\n",
       "2    45\n",
       "3    40\n",
       "4    25\n",
       "dtype: int64"
      ]
     },
     "execution_count": 37,
     "metadata": {},
     "output_type": "execute_result"
    }
   ],
   "source": [
    "import pandas as pd\n",
    "\n",
    "idades = pd.Series([45, 30, 45, 40, 25])\n",
    "idades"
   ]
  },
  {
   "cell_type": "markdown",
   "metadata": {
    "id": "-o4j9gotUfMq"
   },
   "source": [
    "*Explorando brevemente a sua estrutura:*\n",
    "\n",
    "- No lado esquerdo temos o índice (de 0 a 4) indicando a quantidade de registros que possuímos no Series e no lado direito os registros dos dados.\n",
    "\n",
    "- Na última linha, podemos observar o tipo de dado (int64).\n",
    "\n",
    "- A diferença entre este Series e o Series extraído de uma coluna do DataFrame é que o que vem do DataFrame também apresenta na ultima linha o nome(Name) do Series.\n",
    "\n",
    "- Num Series, podemos aplicar funções para eplorar, tratar e manipular seus dados, como podemos observar, logo abaixo, em dois exemplos:"
   ]
  },
  {
   "cell_type": "code",
   "execution_count": 38,
   "metadata": {
    "colab": {
     "base_uri": "https://localhost:8080/"
    },
    "id": "gqPyWTg0QtbL",
    "outputId": "73e8a12f-14c0-4a88-ca6d-117bb6f63824"
   },
   "outputs": [
    {
     "data": {
      "text/plain": [
       "RangeIndex(start=0, stop=5, step=1)"
      ]
     },
     "execution_count": 38,
     "metadata": {},
     "output_type": "execute_result"
    }
   ],
   "source": [
    "idades.index"
   ]
  },
  {
   "cell_type": "markdown",
   "metadata": {
    "id": "NMd7v6jtViEi"
   },
   "source": [
    "- No código acima lemos os índices do Series. Como estão numerados de 0 até 4, o código representa que o índice é gerado pelo RangeIndex( ) partindo de 0 até 5 de um a um."
   ]
  },
  {
   "cell_type": "markdown",
   "metadata": {
    "id": "d1UcIa40gM3T"
   },
   "source": [
    "- No código abaixo lemos os índices do Series. Como estão numerados de 0 até 4, o código representa que o índice é gerado pelo RangeIndex() partindo de 0 até 5 de um a um.\n",
    "\n",
    "- Com este código ordenamos apenas os valores de Idades em ordem crescente, sem alterar os índices."
   ]
  },
  {
   "cell_type": "code",
   "execution_count": 39,
   "metadata": {
    "colab": {
     "base_uri": "https://localhost:8080/",
     "height": 241
    },
    "id": "L663WG2JVaTy",
    "outputId": "a4556079-3238-4fb3-bdce-cff7ccf46cfb"
   },
   "outputs": [
    {
     "data": {
      "text/plain": [
       "4    25\n",
       "1    30\n",
       "3    40\n",
       "0    45\n",
       "2    45\n",
       "dtype: int64"
      ]
     },
     "execution_count": 39,
     "metadata": {},
     "output_type": "execute_result"
    }
   ],
   "source": [
    "idades.sort_values()"
   ]
  },
  {
   "cell_type": "markdown",
   "metadata": {
    "id": "bg-4GdXGgzx3"
   },
   "source": [
    "- Observamos nestes exemplos, como podemos trabalhar com conjuntos de dados estruturados, seja em furmato de DataFreme ou Series, compreendendo suas diferençass e como utiliza-las no contexto de ciência de dados."
   ]
  }
 ],
 "metadata": {
  "colab": {
   "authorship_tag": "ABX9TyOiQWAeeaBFnFQWYQSt5MIT",
   "include_colab_link": true,
   "provenance": []
  },
  "kernelspec": {
   "display_name": "Python 3",
   "name": "python3"
  },
  "language_info": {
   "codemirror_mode": {
    "name": "ipython",
    "version": 3
   },
   "file_extension": ".py",
   "mimetype": "text/x-python",
   "name": "python",
   "nbconvert_exporter": "python",
   "pygments_lexer": "ipython3",
   "version": "3.13.0"
  }
 },
 "nbformat": 4,
 "nbformat_minor": 0
}
